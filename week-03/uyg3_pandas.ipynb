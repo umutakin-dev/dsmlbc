{
 "cells": [
  {
   "cell_type": "markdown",
   "metadata": {
    "toc-hr-collapsed": false
   },
   "source": [
    "# Veri Manipulasyonu 201: Pandas"
   ]
  },
  {
   "cell_type": "markdown",
   "metadata": {},
   "source": [
    "1. sozlukten Dataframe olusturma:  pd.DataFrame()"
   ]
  },
  {
   "cell_type": "code",
   "execution_count": 3,
   "metadata": {},
   "outputs": [
    {
     "name": "stdout",
     "output_type": "stream",
     "text": [
      "         ulkeler  direks_sag  arac_sayisi\n",
      "0  United States        True          809\n",
      "1      Australia       False          731\n",
      "2          Japan       False          588\n",
      "3          India       False           18\n",
      "4         Russia        True          200\n",
      "5        Morocco        True           70\n",
      "6          Egypt        True           45\n"
     ]
    }
   ],
   "source": [
    "isimler = ['United States', 'Australia', 'Japan', 'India', 'Russia', 'Morocco', 'Egypt']\n",
    "direks_sag =  [True, False, False, False, True, True, True]\n",
    "arac_sayisi = [809, 731, 588, 18, 200, 70, 45]   # 10bin kisi basina dusen arac sayisi\n",
    "\n",
    "# pandas kutuphanesini import ediniz\n",
    "import pandas as pd\n",
    "\n",
    "# verilen listeleri kullanarak sozlugum adli bir sozluk olusturunuz. \n",
    "# degisken adlari:  ulkeler,  direksiyon_sag,  arac_sayisi\n",
    "sozlugum = { 'ulkeler':isimler, \"direks_sag\":direks_sag, \"arac_sayisi\":arac_sayisi }\n",
    "\n",
    "# 'sozlugum' adli sozluk u Dataframe e ceviriniz: 'araclar' ismi ile kaydediniz\n",
    "araclar = pd.DataFrame(sozlugum)\n",
    "\n",
    "# bu dataframe i yazdiriniz\n",
    "print(araclar)"
   ]
  },
  {
   "cell_type": "markdown",
   "metadata": {},
   "source": [
    "2. gozlem indeksleri atama: df.index ="
   ]
  },
  {
   "cell_type": "code",
   "execution_count": 4,
   "metadata": {},
   "outputs": [
    {
     "name": "stdout",
     "output_type": "stream",
     "text": [
      "           ulkeler  direks_sag  arac_sayisi\n",
      "US   United States        True          809\n",
      "AUS      Australia       False          731\n",
      "JAP          Japan       False          588\n",
      "IN           India       False           18\n",
      "RU          Russia        True          200\n",
      "MOR        Morocco        True           70\n",
      "EG           Egypt        True           45\n"
     ]
    }
   ],
   "source": [
    "satir_indeksleri = ['US', 'AUS', 'JAP', 'IN', 'RU', 'MOR', 'EG']\n",
    "\n",
    "# verilen diziyi araclar dataframe inin indeksi icin kullaniniz (atayiniz)\n",
    "araclar.index = satir_indeksleri\n",
    "\n",
    "# araclar dataframe ini tekrar yazdiriniz\n",
    "print(araclar)"
   ]
  },
  {
   "cell_type": "markdown",
   "metadata": {},
   "source": [
    "3. csv dosyasi okuma:"
   ]
  },
  {
   "cell_type": "code",
   "execution_count": 5,
   "metadata": {},
   "outputs": [
    {
     "name": "stdout",
     "output_type": "stream",
     "text": [
      "  Unnamed: 0  cars_per_cap        country  drives_right\n",
      "0         US           809  United States          True\n",
      "1        AUS           731      Australia         False\n",
      "2        JAP           588          Japan         False\n",
      "3         IN            18          India         False\n",
      "4         RU           200         Russia          True\n",
      "  country_initial  cars_per_cap        country  drives_right\n",
      "0              US           809  United States          True\n",
      "1             AUS           731      Australia         False\n",
      "2             JAP           588          Japan         False\n",
      "3              IN            18          India         False\n",
      "4              RU           200         Russia          True\n"
     ]
    }
   ],
   "source": [
    "# pandas i import ediniz:\n",
    "import pandas as pd\n",
    "\n",
    "# cars.csv  dosyasini cars adi ile kaydediniz\n",
    "cars = pd.read_csv(\"cars.csv\")\n",
    "\n",
    "# cars verisinin ilk 5 gozlemini yazdiriniz\n",
    "print(cars.head())\n",
    "\n",
    "# cars.columns[0] = [\"kisa_ad\"]     unnamed: 0  kolonunun ismini degistirebilirsiniz\n",
    "new_columns = cars.columns.values\n",
    "new_columns[0] = \"country_initial\"\n",
    "cars.columns = new_columns\n",
    "\n",
    "print(cars.head())"
   ]
  },
  {
   "cell_type": "markdown",
   "metadata": {},
   "source": [
    "4. ilk kolonu satirlarin indeksi olarak acmak icin kulanilan arguman:  index_col = 0"
   ]
  },
  {
   "cell_type": "code",
   "execution_count": 9,
   "metadata": {},
   "outputs": [
    {
     "name": "stdout",
     "output_type": "stream",
     "text": [
      "     cars_per_cap        country  drives_right\n",
      "US            809  United States          True\n",
      "AUS           731      Australia         False\n",
      "JAP           588          Japan         False\n",
      "IN             18          India         False\n",
      "RU            200         Russia          True\n",
      "MOR            70        Morocco          True\n",
      "EG             45          Egypt          True\n"
     ]
    }
   ],
   "source": [
    "# ilk sutun gozlemlerin indeksi olarak belirlenmis olarak csv dosyasini okuyunuz:\n",
    "cars = pd.read_csv('cars.csv', index_col = 0)\n",
    "\n",
    "\n",
    "# cars verisini tekrar yazdiriniz\n",
    "print(cars)\n",
    "\n",
    "# alternatif cozum\n",
    "#cars = pd.read_csv(\"cars.csv\")\n",
    "#cars = cars.set_index(\"Unnamed: 0\")\n",
    "#print(cars)"
   ]
  },
  {
   "cell_type": "markdown",
   "metadata": {},
   "source": [
    "5. Koseli parantezle degisken secme :"
   ]
  },
  {
   "cell_type": "code",
   "execution_count": 10,
   "metadata": {},
   "outputs": [
    {
     "name": "stdout",
     "output_type": "stream",
     "text": [
      "(7, 3)\n",
      "7 3\n"
     ]
    }
   ],
   "source": [
    "print(cars.shape)\n",
    "print(len(cars.index), len(cars.columns))"
   ]
  },
  {
   "cell_type": "code",
   "execution_count": 11,
   "metadata": {},
   "outputs": [
    {
     "name": "stdout",
     "output_type": "stream",
     "text": [
      "US     United States\n",
      "AUS        Australia\n",
      "JAP            Japan\n",
      "IN             India\n",
      "RU            Russia\n",
      "MOR          Morocco\n",
      "EG             Egypt\n",
      "Name: country, dtype: object\n",
      "           country\n",
      "US   United States\n",
      "AUS      Australia\n",
      "JAP          Japan\n",
      "IN           India\n",
      "RU          Russia\n",
      "MOR        Morocco\n",
      "EG           Egypt\n"
     ]
    }
   ],
   "source": [
    "# country degiskenini bir Pandas Series olarak yazdiriniz\n",
    "print(cars['country'])\n",
    "\n",
    "# country degiskenini bir  Pandas DataFrame olarak yazdiriniz\n",
    "print(cars[['country']])\n",
    "\n",
    "# dataframe in sadece country ve drives_right degiskenlerini secerek yazdiriniz\n"
   ]
  },
  {
   "cell_type": "markdown",
   "metadata": {},
   "source": [
    "6. Koseli parantezle gozlem secme :"
   ]
  },
  {
   "cell_type": "code",
   "execution_count": 14,
   "metadata": {},
   "outputs": [
    {
     "name": "stdout",
     "output_type": "stream",
     "text": [
      "     cars_per_cap        country  drives_right\n",
      "US            809  United States          True\n",
      "AUS           731      Australia         False\n",
      "JAP           588          Japan         False\n",
      "     cars_per_cap  country  drives_right\n",
      "IN             18    India         False\n",
      "RU            200   Russia          True\n",
      "MOR            70  Morocco          True\n"
     ]
    }
   ],
   "source": [
    "# cars verisinin ilk 3 gozlemi yazdiriniz\n",
    "print(cars[0:3])\n",
    "\n",
    "# 4. 5. ve 6. gozlemleri yazdiriniz\n",
    "print(cars[3:6])\n"
   ]
  },
  {
   "cell_type": "markdown",
   "metadata": {},
   "source": [
    "7. loc ve iloc:"
   ]
  },
  {
   "cell_type": "code",
   "execution_count": 56,
   "metadata": {},
   "outputs": [
    {
     "name": "stdout",
     "output_type": "stream",
     "text": [
      "cars_per_cap      588\n",
      "country         Japan\n",
      "drives_right    False\n",
      "Name: JAP, dtype: object\n",
      "     cars_per_cap    country  drives_right\n",
      "AUS           731  Australia         False\n",
      "EG             45      Egypt          True\n"
     ]
    }
   ],
   "source": [
    "# sadece Japonya ya ait bilgileri yazdiriniz\n",
    "print(cars.loc[\"JAP\"])\n",
    "#print(cars[cars.index == \"JAP\"])\n",
    "\n",
    "\n",
    "# Avusturya ve Misira ait bilgileri yazdiriiniz\n",
    "print(cars.loc[[\"AUS\", \"EG\"]])"
   ]
  },
  {
   "cell_type": "markdown",
   "metadata": {},
   "source": [
    "8. loc ve iloc 2:"
   ]
  },
  {
   "cell_type": "code",
   "execution_count": 61,
   "metadata": {},
   "outputs": [
    {
     "name": "stdout",
     "output_type": "stream",
     "text": [
      "True\n",
      "     country  drives_right\n",
      "RU    Russia          True\n",
      "MOR  Morocco          True\n"
     ]
    }
   ],
   "source": [
    "# Morocco a ait drives_right bilgisini yazdiriniz\n",
    "print(cars.loc['MOR','drives_right'])\n",
    "\n",
    "# rusya ve morocco nun country ve drives_right bilgilerini yazdiriniz:\n",
    "print(cars.loc[[\"RU\", \"MOR\"],  [\"country\", \"drives_right\"]])"
   ]
  },
  {
   "cell_type": "markdown",
   "metadata": {},
   "source": [
    "9. loc ve iloc 3:"
   ]
  },
  {
   "cell_type": "code",
   "execution_count": 63,
   "metadata": {},
   "outputs": [
    {
     "name": "stdout",
     "output_type": "stream",
     "text": [
      "US      True\n",
      "AUS    False\n",
      "JAP    False\n",
      "IN     False\n",
      "RU      True\n",
      "MOR     True\n",
      "EG      True\n",
      "Name: drives_right, dtype: bool\n",
      "     drives_right\n",
      "US           True\n",
      "AUS         False\n",
      "JAP         False\n",
      "IN          False\n",
      "RU           True\n",
      "MOR          True\n",
      "EG           True\n",
      "     cars_per_cap  drives_right\n",
      "US            809          True\n",
      "AUS           731         False\n",
      "JAP           588         False\n",
      "IN             18         False\n",
      "RU            200          True\n",
      "MOR            70          True\n",
      "EG             45          True\n"
     ]
    }
   ],
   "source": [
    "# drives_right kolonunu(degiskenini) bir Series olarak yazdiriniz:\n",
    "print(cars.loc[:,'drives_right'])\n",
    "\n",
    "# drives_right kolonunu(degiskenini) bir DataFrame olarak yazdiriniz:\n",
    "print(cars.loc[:,['drives_right']])\n",
    "\n",
    "# cars_per_cap ve drives_right kolonlarini(degiskenlerini) bir DataFrame olarak yazdiriniz:\n",
    "print(cars.loc[:, [\"cars_per_cap\", \"drives_right\"]])\n"
   ]
  },
  {
   "cell_type": "markdown",
   "metadata": {},
   "source": [
    "10. Pandas DataFrame uzerinde filtreleme:     df[df['column1']]"
   ]
  },
  {
   "cell_type": "code",
   "execution_count": 65,
   "metadata": {},
   "outputs": [
    {
     "name": "stdout",
     "output_type": "stream",
     "text": [
      "     cars_per_cap        country  drives_right\n",
      "US            809  United States          True\n",
      "RU            200         Russia          True\n",
      "MOR            70        Morocco          True\n",
      "EG             45          Egypt          True\n"
     ]
    }
   ],
   "source": [
    "# sag direksiyonlu olanlari ifade eden drives_right kolonunu bir Series olarak dr adiyla kaydediniz: dr\n",
    "dr = cars.loc[:, \"drives_right\"]\n",
    "\n",
    "\n",
    "#  dr i kullanarak cars dataframini filtreleyiniz, secilen adi ile kaydediniz: secilen\n",
    "# (burada dr icindeki True lara karsilik gelen gozlemleri secilir, digerleri secilmez)\n",
    "secilen = cars[dr]\n",
    "\n",
    "# secilen  dataframini yazdiriniz\n",
    "print(secilen)"
   ]
  },
  {
   "cell_type": "markdown",
   "metadata": {},
   "source": [
    "11. tek satirda ayni islem:"
   ]
  },
  {
   "cell_type": "code",
   "execution_count": null,
   "metadata": {},
   "outputs": [],
   "source": [
    "# Yukaridaki secme isleminin aynisini tek satirda yapiniz:\n",
    "secilen = cars[cars['drives_right']]\n",
    "\n",
    "# secilen  dataframe ini yazdiriniz:\n",
    "print(secilen)"
   ]
  },
  {
   "cell_type": "markdown",
   "metadata": {},
   "source": [
    "12. Filtreleme-Secme 2:"
   ]
  },
  {
   "cell_type": "code",
   "execution_count": 68,
   "metadata": {},
   "outputs": [
    {
     "name": "stdout",
     "output_type": "stream",
     "text": [
      "     cars_per_cap        country  drives_right\n",
      "US            809  United States          True\n",
      "AUS           731      Australia         False\n",
      "JAP           588          Japan         False\n"
     ]
    }
   ],
   "source": [
    "# cars_per_cap degeri 500 den buyuk olan degerleri seciniz. bu veriyi  car_maniac  adiyla kaydediniz \n",
    "#car_maniac = cars.loc[cars.cars_per_cap > 500]\n",
    "car_maniac = cars.loc[cars[\"cars_per_cap\"] > 500]\n",
    "\n",
    "#  car_maniac  verisini yazdiriniz\n",
    "print(car_maniac)"
   ]
  },
  {
   "cell_type": "markdown",
   "metadata": {},
   "source": [
    "13. Filtreleme-Secme 3:"
   ]
  },
  {
   "cell_type": "raw",
   "metadata": {},
   "source": [
    "BILGI:\n",
    "cpc = cars['cars_per_cap']\n",
    "cars[ (cpc > 10) & (cpc < 80) ]\n",
    "\n",
    "veya \n",
    "\n",
    "cpc = cars['cars_per_cap']\n",
    "cars[ np.logical_and(cpc > 10, cpc < 80) ]"
   ]
  },
  {
   "cell_type": "code",
   "execution_count": 78,
   "metadata": {},
   "outputs": [
    {
     "name": "stdout",
     "output_type": "stream",
     "text": [
      "     cars_per_cap        country  drives_right\n",
      "US            809  United States          True\n",
      "AUS           731      Australia         False\n",
      "JAP           588          Japan         False\n",
      "IN             18          India         False\n",
      "MOR            70        Morocco          True\n",
      "EG             45          Egypt          True\n"
     ]
    }
   ],
   "source": [
    "import numpy as np\n",
    "\n",
    "# cars_per_cap degeri 500 den buyuk ve 100 den kucuk olan degerleri seciniz. bu veriyi  medium  adiyla kaydediniz\n",
    "medium = cars.loc[(cars.cars_per_cap > 500) | (cars.cars_per_cap < 100)]\n",
    "\n",
    "# medium u yazdiriniz\n",
    "print(medium)"
   ]
  },
  {
   "cell_type": "markdown",
   "metadata": {},
   "source": [
    "14. DataFrame uzerinde dongu"
   ]
  },
  {
   "cell_type": "raw",
   "metadata": {},
   "source": [
    "BILGI:\n",
    "\n",
    "for idx, satir in df.iterrows() :\n",
    "    ..."
   ]
  },
  {
   "cell_type": "code",
   "execution_count": 93,
   "metadata": {},
   "outputs": [
    {
     "name": "stdout",
     "output_type": "stream",
     "text": [
      "US\n",
      "cars_per_cap              809\n",
      "country         United States\n",
      "drives_right             True\n",
      "Name: US, dtype: object\n",
      "\n",
      "\n",
      "AUS\n",
      "cars_per_cap          731\n",
      "country         Australia\n",
      "drives_right        False\n",
      "Name: AUS, dtype: object\n",
      "\n",
      "\n",
      "JAP\n",
      "cars_per_cap      588\n",
      "country         Japan\n",
      "drives_right    False\n",
      "Name: JAP, dtype: object\n",
      "\n",
      "\n",
      "IN\n",
      "cars_per_cap       18\n",
      "country         India\n",
      "drives_right    False\n",
      "Name: IN, dtype: object\n",
      "\n",
      "\n",
      "RU\n",
      "cars_per_cap       200\n",
      "country         Russia\n",
      "drives_right      True\n",
      "Name: RU, dtype: object\n",
      "\n",
      "\n",
      "MOR\n",
      "cars_per_cap         70\n",
      "country         Morocco\n",
      "drives_right       True\n",
      "Name: MOR, dtype: object\n",
      "\n",
      "\n",
      "EG\n",
      "cars_per_cap       45\n",
      "country         Egypt\n",
      "drives_right     True\n",
      "Name: EG, dtype: object\n",
      "\n",
      "\n"
     ]
    }
   ],
   "source": [
    "# cars uzerinde for ile dongu kurarak degisken adini ve o degiskenin gozlemlerini yazdiriniz\n",
    "for index, row in cars.iterrows():\n",
    "    print(index)\n",
    "    print(row)\n",
    "    print(\"\\n\")\n",
    "\n",
    "\n"
   ]
  },
  {
   "cell_type": "raw",
   "metadata": {},
   "source": [
    "BILGI:\n",
    "\n",
    "for sutun, satir in df.iterrows() :\n",
    "    print(satir['country'])"
   ]
  },
  {
   "cell_type": "markdown",
   "metadata": {},
   "source": [
    "15. DataFrame uzerinde dongu-2"
   ]
  },
  {
   "cell_type": "raw",
   "metadata": {},
   "source": [
    "US: 809\n",
    "AUS: 731\n",
    "JAP: 588\n",
    "IN: 18\n",
    "RU: 200\n",
    "MOR: 70\n",
    "EG: 45"
   ]
  },
  {
   "cell_type": "code",
   "execution_count": 100,
   "metadata": {},
   "outputs": [
    {
     "name": "stdout",
     "output_type": "stream",
     "text": [
      "US: 809\n",
      "AUS: 731\n",
      "JAP: 588\n",
      "IN: 18\n",
      "RU: 200\n",
      "MOR: 70\n",
      "EG: 45\n"
     ]
    }
   ],
   "source": [
    "# bir ustteki hucrede yazilan ciktiyi veren kodlari yaziniz. (cars dataframe'inin uzerinde dongu kullanarak)\n",
    "for sutun, rows in cars.iterrows():\n",
    "    print(sutun + \": \" + str(rows.cars_per_cap))\n",
    "\n"
   ]
  },
  {
   "cell_type": "markdown",
   "metadata": {},
   "source": [
    "16. Dongu ile dataframe'e ait olan bir degiskeni alip, bir islem yapip baska bir degisken olarak dataframe'e ekleme"
   ]
  },
  {
   "cell_type": "code",
   "execution_count": 106,
   "metadata": {},
   "outputs": [
    {
     "data": {
      "text/html": [
       "<div>\n",
       "<style scoped>\n",
       "    .dataframe tbody tr th:only-of-type {\n",
       "        vertical-align: middle;\n",
       "    }\n",
       "\n",
       "    .dataframe tbody tr th {\n",
       "        vertical-align: top;\n",
       "    }\n",
       "\n",
       "    .dataframe thead th {\n",
       "        text-align: right;\n",
       "    }\n",
       "</style>\n",
       "<table border=\"1\" class=\"dataframe\">\n",
       "  <thead>\n",
       "    <tr style=\"text-align: right;\">\n",
       "      <th></th>\n",
       "      <th>cars_per_cap</th>\n",
       "      <th>country</th>\n",
       "      <th>drives_right</th>\n",
       "      <th>cpc</th>\n",
       "    </tr>\n",
       "  </thead>\n",
       "  <tbody>\n",
       "    <tr>\n",
       "      <th>US</th>\n",
       "      <td>809</td>\n",
       "      <td>United States</td>\n",
       "      <td>True</td>\n",
       "      <td>1809</td>\n",
       "    </tr>\n",
       "    <tr>\n",
       "      <th>AUS</th>\n",
       "      <td>731</td>\n",
       "      <td>Australia</td>\n",
       "      <td>False</td>\n",
       "      <td>1731</td>\n",
       "    </tr>\n",
       "    <tr>\n",
       "      <th>JAP</th>\n",
       "      <td>588</td>\n",
       "      <td>Japan</td>\n",
       "      <td>False</td>\n",
       "      <td>1588</td>\n",
       "    </tr>\n",
       "    <tr>\n",
       "      <th>IN</th>\n",
       "      <td>18</td>\n",
       "      <td>India</td>\n",
       "      <td>False</td>\n",
       "      <td>1018</td>\n",
       "    </tr>\n",
       "    <tr>\n",
       "      <th>RU</th>\n",
       "      <td>200</td>\n",
       "      <td>Russia</td>\n",
       "      <td>True</td>\n",
       "      <td>1200</td>\n",
       "    </tr>\n",
       "    <tr>\n",
       "      <th>MOR</th>\n",
       "      <td>70</td>\n",
       "      <td>Morocco</td>\n",
       "      <td>True</td>\n",
       "      <td>1070</td>\n",
       "    </tr>\n",
       "    <tr>\n",
       "      <th>EG</th>\n",
       "      <td>45</td>\n",
       "      <td>Egypt</td>\n",
       "      <td>True</td>\n",
       "      <td>1045</td>\n",
       "    </tr>\n",
       "  </tbody>\n",
       "</table>\n",
       "</div>"
      ],
      "text/plain": [
       "     cars_per_cap        country  drives_right   cpc\n",
       "US            809  United States          True  1809\n",
       "AUS           731      Australia         False  1731\n",
       "JAP           588          Japan         False  1588\n",
       "IN             18          India         False  1018\n",
       "RU            200         Russia          True  1200\n",
       "MOR            70        Morocco          True  1070\n",
       "EG             45          Egypt          True  1045"
      ]
     },
     "execution_count": 106,
     "metadata": {},
     "output_type": "execute_result"
    }
   ],
   "source": [
    "cpc = cars[\"cars_per_cap\"] + 1000\n",
    "cars[\"cpc\"] = cpc\n",
    "cars"
   ]
  },
  {
   "cell_type": "code",
   "execution_count": 137,
   "metadata": {},
   "outputs": [
    {
     "name": "stdout",
     "output_type": "stream",
     "text": [
      "\n",
      "------------------------\n",
      "     cars_per_cap        country  drives_right        COUNTRY\n",
      "US            809  United States          True  UNITED STATES\n",
      "AUS           731      Australia         False      AUSTRALIA\n",
      "JAP           588          Japan         False          JAPAN\n",
      "IN             18          India         False          INDIA\n",
      "RU            200         Russia          True         RUSSIA\n",
      "MOR            70        Morocco          True        MOROCCO\n",
      "EG             45          Egypt          True          EGYPT\n"
     ]
    }
   ],
   "source": [
    "# Cars verisi uzerinde goruldugu gibi country adli bir degisken(kolon) var. df uzerinde for dongusu ile bu degiskeni kullanip \n",
    "# ayni ulke isimlerinin buyuk harfli halini barindiran yeni bir degisken olusturup bu veriye ekleyiniz.\n",
    "# yeni degiskenin adi: COUNTRY seklinde olsun\n",
    "cars = pd.read_csv('cars.csv', index_col = 0)\n",
    "for index, row in cars.iterrows():\n",
    "    cars.loc[index, \"COUNTRY\"] = str(row[\"country\"]).upper()\n",
    "    #cars[\"COUNTRY\"] = str(cars[\"country\"]).upper()\n",
    "    #print(cars[\"country\"])\n",
    "\n",
    "    \n",
    "# df i yazdiriniz\n",
    "print(\"\\n------------------------\")\n",
    "print(cars)"
   ]
  },
  {
   "cell_type": "markdown",
   "metadata": {},
   "source": [
    "17. dongu yerine .apply() methodu:"
   ]
  },
  {
   "cell_type": "raw",
   "metadata": {},
   "source": [
    "BILGI: Asagida verilen iki kod parcacigi ayni isi yapar:\n",
    "\n",
    "for degisken, gozlem in df.iterrows() :\n",
    "    df.loc[degisken, \"name_length\"] = len(gozlem[\"country\"])\n",
    "\n",
    "df[\"name_length\"] = df[\"country\"].apply(len)"
   ]
  },
  {
   "cell_type": "code",
   "execution_count": 139,
   "metadata": {},
   "outputs": [
    {
     "name": "stdout",
     "output_type": "stream",
     "text": [
      "     cars_per_cap        country  drives_right        COUNTRY\n",
      "US            809  United States          True  UNITED STATES\n",
      "AUS           731      Australia         False      AUSTRALIA\n",
      "JAP           588          Japan         False          JAPAN\n",
      "IN             18          India         False          INDIA\n",
      "RU            200         Russia          True         RUSSIA\n",
      "MOR            70        Morocco          True        MOROCCO\n",
      "EG             45          Egypt          True          EGYPT\n"
     ]
    }
   ],
   "source": [
    "import pandas as pd\n",
    "# cars verisinin ilk halini tekrar cagiralim:\n",
    "cars = pd.read_csv('cars.csv', index_col = 0)\n",
    "\n",
    "# 16. adimda yapilan ayni seyi .apply(str.upper)  yontemi ile yapiniz. (Bilgiye dikkat!)\n",
    "cars[\"COUNTRY\"] = cars[\"country\"].apply(lambda x: str(x).upper())\n",
    "\n",
    "# cars df sini yazdiriniz\n",
    "print(cars)"
   ]
  },
  {
   "cell_type": "raw",
   "metadata": {},
   "source": []
  },
  {
   "cell_type": "markdown",
   "metadata": {},
   "source": [
    "## homeless_data verisi uzerinde calisalim:"
   ]
  },
  {
   "cell_type": "code",
   "execution_count": 141,
   "metadata": {},
   "outputs": [],
   "source": [
    "import pandas as pd\n",
    "df = pd.read_pickle(\"homeless_data.pkl\")"
   ]
  },
  {
   "cell_type": "markdown",
   "metadata": {},
   "source": [
    "18. df nin ilk bes gozlemini yazdirin"
   ]
  },
  {
   "cell_type": "code",
   "execution_count": 142,
   "metadata": {},
   "outputs": [
    {
     "data": {
      "text/html": [
       "<div>\n",
       "<style scoped>\n",
       "    .dataframe tbody tr th:only-of-type {\n",
       "        vertical-align: middle;\n",
       "    }\n",
       "\n",
       "    .dataframe tbody tr th {\n",
       "        vertical-align: top;\n",
       "    }\n",
       "\n",
       "    .dataframe thead th {\n",
       "        text-align: right;\n",
       "    }\n",
       "</style>\n",
       "<table border=\"1\" class=\"dataframe\">\n",
       "  <thead>\n",
       "    <tr style=\"text-align: right;\">\n",
       "      <th></th>\n",
       "      <th>region</th>\n",
       "      <th>state</th>\n",
       "      <th>individuals</th>\n",
       "      <th>family_members</th>\n",
       "      <th>state_pop</th>\n",
       "    </tr>\n",
       "  </thead>\n",
       "  <tbody>\n",
       "    <tr>\n",
       "      <th>0</th>\n",
       "      <td>East South Central</td>\n",
       "      <td>Alabama</td>\n",
       "      <td>2570.0</td>\n",
       "      <td>864.0</td>\n",
       "      <td>4887681</td>\n",
       "    </tr>\n",
       "    <tr>\n",
       "      <th>1</th>\n",
       "      <td>Pacific</td>\n",
       "      <td>Alaska</td>\n",
       "      <td>1434.0</td>\n",
       "      <td>582.0</td>\n",
       "      <td>735139</td>\n",
       "    </tr>\n",
       "    <tr>\n",
       "      <th>2</th>\n",
       "      <td>Mountain</td>\n",
       "      <td>Arizona</td>\n",
       "      <td>7259.0</td>\n",
       "      <td>2606.0</td>\n",
       "      <td>7158024</td>\n",
       "    </tr>\n",
       "    <tr>\n",
       "      <th>3</th>\n",
       "      <td>West South Central</td>\n",
       "      <td>Arkansas</td>\n",
       "      <td>2280.0</td>\n",
       "      <td>432.0</td>\n",
       "      <td>3009733</td>\n",
       "    </tr>\n",
       "    <tr>\n",
       "      <th>4</th>\n",
       "      <td>Pacific</td>\n",
       "      <td>California</td>\n",
       "      <td>109008.0</td>\n",
       "      <td>20964.0</td>\n",
       "      <td>39461588</td>\n",
       "    </tr>\n",
       "  </tbody>\n",
       "</table>\n",
       "</div>"
      ],
      "text/plain": [
       "               region       state  individuals  family_members  state_pop\n",
       "0  East South Central     Alabama       2570.0           864.0    4887681\n",
       "1             Pacific      Alaska       1434.0           582.0     735139\n",
       "2            Mountain     Arizona       7259.0          2606.0    7158024\n",
       "3  West South Central    Arkansas       2280.0           432.0    3009733\n",
       "4             Pacific  California     109008.0         20964.0   39461588"
      ]
     },
     "execution_count": 142,
     "metadata": {},
     "output_type": "execute_result"
    }
   ],
   "source": [
    "df.head()"
   ]
  },
  {
   "cell_type": "markdown",
   "metadata": {},
   "source": [
    "19. df hakkinda yapisal bilgileri yazdirin"
   ]
  },
  {
   "cell_type": "code",
   "execution_count": 146,
   "metadata": {},
   "outputs": [
    {
     "name": "stdout",
     "output_type": "stream",
     "text": [
      "<class 'pandas.core.frame.DataFrame'>\n",
      "Int64Index: 51 entries, 0 to 50\n",
      "Data columns (total 5 columns):\n",
      " #   Column          Non-Null Count  Dtype  \n",
      "---  ------          --------------  -----  \n",
      " 0   region          51 non-null     object \n",
      " 1   state           51 non-null     object \n",
      " 2   individuals     51 non-null     float64\n",
      " 3   family_members  51 non-null     float64\n",
      " 4   state_pop       51 non-null     int64  \n",
      "dtypes: float64(2), int64(1), object(2)\n",
      "memory usage: 2.4+ KB\n"
     ]
    }
   ],
   "source": [
    "df.info()"
   ]
  },
  {
   "cell_type": "markdown",
   "metadata": {},
   "source": [
    "20. df 'nin boyutunu yazdirin"
   ]
  },
  {
   "cell_type": "code",
   "execution_count": 147,
   "metadata": {},
   "outputs": [
    {
     "data": {
      "text/plain": [
       "(51, 5)"
      ]
     },
     "execution_count": 147,
     "metadata": {},
     "output_type": "execute_result"
    }
   ],
   "source": [
    "df.shape"
   ]
  },
  {
   "cell_type": "markdown",
   "metadata": {},
   "source": [
    "21. df'in degiskenlerinin istatistiklerini yazdirin"
   ]
  },
  {
   "cell_type": "code",
   "execution_count": 149,
   "metadata": {},
   "outputs": [
    {
     "data": {
      "text/html": [
       "<div>\n",
       "<style scoped>\n",
       "    .dataframe tbody tr th:only-of-type {\n",
       "        vertical-align: middle;\n",
       "    }\n",
       "\n",
       "    .dataframe tbody tr th {\n",
       "        vertical-align: top;\n",
       "    }\n",
       "\n",
       "    .dataframe thead th {\n",
       "        text-align: right;\n",
       "    }\n",
       "</style>\n",
       "<table border=\"1\" class=\"dataframe\">\n",
       "  <thead>\n",
       "    <tr style=\"text-align: right;\">\n",
       "      <th></th>\n",
       "      <th>count</th>\n",
       "      <th>mean</th>\n",
       "      <th>std</th>\n",
       "      <th>min</th>\n",
       "      <th>25%</th>\n",
       "      <th>50%</th>\n",
       "      <th>75%</th>\n",
       "      <th>max</th>\n",
       "    </tr>\n",
       "  </thead>\n",
       "  <tbody>\n",
       "    <tr>\n",
       "      <th>individuals</th>\n",
       "      <td>51.0</td>\n",
       "      <td>7.225784e+03</td>\n",
       "      <td>1.599103e+04</td>\n",
       "      <td>434.0</td>\n",
       "      <td>1446.5</td>\n",
       "      <td>3082.0</td>\n",
       "      <td>6781.5</td>\n",
       "      <td>109008.0</td>\n",
       "    </tr>\n",
       "    <tr>\n",
       "      <th>family_members</th>\n",
       "      <td>51.0</td>\n",
       "      <td>3.504882e+03</td>\n",
       "      <td>7.805412e+03</td>\n",
       "      <td>75.0</td>\n",
       "      <td>592.0</td>\n",
       "      <td>1482.0</td>\n",
       "      <td>3196.0</td>\n",
       "      <td>52070.0</td>\n",
       "    </tr>\n",
       "    <tr>\n",
       "      <th>state_pop</th>\n",
       "      <td>51.0</td>\n",
       "      <td>6.405637e+06</td>\n",
       "      <td>7.327258e+06</td>\n",
       "      <td>577601.0</td>\n",
       "      <td>1777413.5</td>\n",
       "      <td>4461153.0</td>\n",
       "      <td>7340946.5</td>\n",
       "      <td>39461588.0</td>\n",
       "    </tr>\n",
       "  </tbody>\n",
       "</table>\n",
       "</div>"
      ],
      "text/plain": [
       "                count          mean           std       min        25%  \\\n",
       "individuals      51.0  7.225784e+03  1.599103e+04     434.0     1446.5   \n",
       "family_members   51.0  3.504882e+03  7.805412e+03      75.0      592.0   \n",
       "state_pop        51.0  6.405637e+06  7.327258e+06  577601.0  1777413.5   \n",
       "\n",
       "                      50%        75%         max  \n",
       "individuals        3082.0     6781.5    109008.0  \n",
       "family_members     1482.0     3196.0     52070.0  \n",
       "state_pop       4461153.0  7340946.5  39461588.0  "
      ]
     },
     "execution_count": 149,
     "metadata": {},
     "output_type": "execute_result"
    }
   ],
   "source": [
    "df.describe().T"
   ]
  },
  {
   "cell_type": "markdown",
   "metadata": {},
   "source": [
    "22. df'i iki boyutlu numpy arrayi olarak yazdirin"
   ]
  },
  {
   "cell_type": "code",
   "execution_count": 150,
   "metadata": {},
   "outputs": [
    {
     "data": {
      "text/plain": [
       "array([['East South Central', 'Alabama', 2570.0, 864.0, 4887681],\n",
       "       ['Pacific', 'Alaska', 1434.0, 582.0, 735139],\n",
       "       ['Mountain', 'Arizona', 7259.0, 2606.0, 7158024],\n",
       "       ['West South Central', 'Arkansas', 2280.0, 432.0, 3009733],\n",
       "       ['Pacific', 'California', 109008.0, 20964.0, 39461588],\n",
       "       ['Mountain', 'Colorado', 7607.0, 3250.0, 5691287],\n",
       "       ['New England', 'Connecticut', 2280.0, 1696.0, 3571520],\n",
       "       ['South Atlantic', 'Delaware', 708.0, 374.0, 965479],\n",
       "       ['South Atlantic', 'District of Columbia', 3770.0, 3134.0, 701547],\n",
       "       ['South Atlantic', 'Florida', 21443.0, 9587.0, 21244317],\n",
       "       ['South Atlantic', 'Georgia', 6943.0, 2556.0, 10511131],\n",
       "       ['Pacific', 'Hawaii', 4131.0, 2399.0, 1420593],\n",
       "       ['Mountain', 'Idaho', 1297.0, 715.0, 1750536],\n",
       "       ['East North Central', 'Illinois', 6752.0, 3891.0, 12723071],\n",
       "       ['East North Central', 'Indiana', 3776.0, 1482.0, 6695497],\n",
       "       ['West North Central', 'Iowa', 1711.0, 1038.0, 3148618],\n",
       "       ['West North Central', 'Kansas', 1443.0, 773.0, 2911359],\n",
       "       ['East South Central', 'Kentucky', 2735.0, 953.0, 4461153],\n",
       "       ['West South Central', 'Louisiana', 2540.0, 519.0, 4659690],\n",
       "       ['New England', 'Maine', 1450.0, 1066.0, 1339057],\n",
       "       ['South Atlantic', 'Maryland', 4914.0, 2230.0, 6035802],\n",
       "       ['New England', 'Massachusetts', 6811.0, 13257.0, 6882635],\n",
       "       ['East North Central', 'Michigan', 5209.0, 3142.0, 9984072],\n",
       "       ['West North Central', 'Minnesota', 3993.0, 3250.0, 5606249],\n",
       "       ['East South Central', 'Mississippi', 1024.0, 328.0, 2981020],\n",
       "       ['West North Central', 'Missouri', 3776.0, 2107.0, 6121623],\n",
       "       ['Mountain', 'Montana', 983.0, 422.0, 1060665],\n",
       "       ['West North Central', 'Nebraska', 1745.0, 676.0, 1925614],\n",
       "       ['Mountain', 'Nevada', 7058.0, 486.0, 3027341],\n",
       "       ['New England', 'New Hampshire', 835.0, 615.0, 1353465],\n",
       "       ['Mid-Atlantic', 'New Jersey', 6048.0, 3350.0, 8886025],\n",
       "       ['Mountain', 'New Mexico', 1949.0, 602.0, 2092741],\n",
       "       ['Mid-Atlantic', 'New York', 39827.0, 52070.0, 19530351],\n",
       "       ['South Atlantic', 'North Carolina', 6451.0, 2817.0, 10381615],\n",
       "       ['West North Central', 'North Dakota', 467.0, 75.0, 758080],\n",
       "       ['East North Central', 'Ohio', 6929.0, 3320.0, 11676341],\n",
       "       ['West South Central', 'Oklahoma', 2823.0, 1048.0, 3940235],\n",
       "       ['Pacific', 'Oregon', 11139.0, 3337.0, 4181886],\n",
       "       ['Mid-Atlantic', 'Pennsylvania', 8163.0, 5349.0, 12800922],\n",
       "       ['New England', 'Rhode Island', 747.0, 354.0, 1058287],\n",
       "       ['South Atlantic', 'South Carolina', 3082.0, 851.0, 5084156],\n",
       "       ['West North Central', 'South Dakota', 836.0, 323.0, 878698],\n",
       "       ['East South Central', 'Tennessee', 6139.0, 1744.0, 6771631],\n",
       "       ['West South Central', 'Texas', 19199.0, 6111.0, 28628666],\n",
       "       ['Mountain', 'Utah', 1904.0, 972.0, 3153550],\n",
       "       ['New England', 'Vermont', 780.0, 511.0, 624358],\n",
       "       ['South Atlantic', 'Virginia', 3928.0, 2047.0, 8501286],\n",
       "       ['Pacific', 'Washington', 16424.0, 5880.0, 7523869],\n",
       "       ['South Atlantic', 'West Virginia', 1021.0, 222.0, 1804291],\n",
       "       ['East North Central', 'Wisconsin', 2740.0, 2167.0, 5807406],\n",
       "       ['Mountain', 'Wyoming', 434.0, 205.0, 577601]], dtype=object)"
      ]
     },
     "execution_count": 150,
     "metadata": {},
     "output_type": "execute_result"
    }
   ],
   "source": [
    "df.values"
   ]
  },
  {
   "cell_type": "markdown",
   "metadata": {},
   "source": [
    "23. df'in degisken(kolon) isimlerini bir baska degisle kolon index isimlerini yazdirin"
   ]
  },
  {
   "cell_type": "code",
   "execution_count": 151,
   "metadata": {},
   "outputs": [
    {
     "data": {
      "text/plain": [
       "Index(['region', 'state', 'individuals', 'family_members', 'state_pop'], dtype='object')"
      ]
     },
     "execution_count": 151,
     "metadata": {},
     "output_type": "execute_result"
    }
   ],
   "source": [
    "df.columns"
   ]
  },
  {
   "cell_type": "markdown",
   "metadata": {},
   "source": [
    "24. df'in gozlem(satir) indekslerini yazdirin"
   ]
  },
  {
   "cell_type": "code",
   "execution_count": 152,
   "metadata": {},
   "outputs": [
    {
     "data": {
      "text/plain": [
       "Int64Index([ 0,  1,  2,  3,  4,  5,  6,  7,  8,  9, 10, 11, 12, 13, 14, 15, 16,\n",
       "            17, 18, 19, 20, 21, 22, 23, 24, 25, 26, 27, 28, 29, 30, 31, 32, 33,\n",
       "            34, 35, 36, 37, 38, 39, 40, 41, 42, 43, 44, 45, 46, 47, 48, 49,\n",
       "            50],\n",
       "           dtype='int64')"
      ]
     },
     "execution_count": 152,
     "metadata": {},
     "output_type": "execute_result"
    }
   ],
   "source": [
    "df.index"
   ]
  },
  {
   "cell_type": "markdown",
   "metadata": {},
   "source": [
    "25. df.sort_values('variable_name')"
   ]
  },
  {
   "cell_type": "code",
   "execution_count": 155,
   "metadata": {},
   "outputs": [
    {
     "name": "stdout",
     "output_type": "stream",
     "text": [
      "                region         state  individuals  family_members  state_pop\n",
      "50            Mountain       Wyoming        434.0           205.0     577601\n",
      "34  West North Central  North Dakota        467.0            75.0     758080\n",
      "7       South Atlantic      Delaware        708.0           374.0     965479\n",
      "39         New England  Rhode Island        747.0           354.0    1058287\n",
      "45         New England       Vermont        780.0           511.0     624358\n"
     ]
    }
   ],
   "source": [
    "# df i  individual degiskenine gore siralayiniz.  df_ind ile kaydediniz\n",
    "df_ind = df.sort_values(\"individuals\")\n",
    "\n",
    "\n",
    "# df_ind  in ilk 5 gozlemini yazdiriniz\n",
    "print(df_ind.head())"
   ]
  },
  {
   "cell_type": "markdown",
   "metadata": {
    "toc-hr-collapsed": false
   },
   "source": [
    "26. df.sort_values('variable_name', ascending=False )"
   ]
  },
  {
   "cell_type": "code",
   "execution_count": 156,
   "metadata": {},
   "outputs": [
    {
     "name": "stdout",
     "output_type": "stream",
     "text": [
      "                region          state  individuals  family_members  state_pop\n",
      "32        Mid-Atlantic       New York      39827.0         52070.0   19530351\n",
      "4              Pacific     California     109008.0         20964.0   39461588\n",
      "21         New England  Massachusetts       6811.0         13257.0    6882635\n",
      "9       South Atlantic        Florida      21443.0          9587.0   21244317\n",
      "43  West South Central          Texas      19199.0          6111.0   28628666\n"
     ]
    }
   ],
   "source": [
    "# df i family members degiskenine gore tersten (buyukten kucuge) siralayiniz.    df_fam adi ile kaydediniz \n",
    "# (ascending=duz=kucukten buyuge)\n",
    "df_fam = df.sort_values(\"family_members\", ascending = False)\n",
    "\n",
    "# df_fam in ilk 5 gozlemini yazdiriniz\n",
    "print(df_fam.head())"
   ]
  },
  {
   "cell_type": "markdown",
   "metadata": {},
   "source": [
    "27. df.sort_values(['variable_name1','variable_name2'], ascending=[False,False] )"
   ]
  },
  {
   "cell_type": "code",
   "execution_count": 157,
   "metadata": {},
   "outputs": [
    {
     "name": "stdout",
     "output_type": "stream",
     "text": [
      "                region      state  individuals  family_members  state_pop\n",
      "13  East North Central   Illinois       6752.0          3891.0   12723071\n",
      "35  East North Central       Ohio       6929.0          3320.0   11676341\n",
      "22  East North Central   Michigan       5209.0          3142.0    9984072\n",
      "49  East North Central  Wisconsin       2740.0          2167.0    5807406\n",
      "14  East North Central    Indiana       3776.0          1482.0    6695497\n"
     ]
    }
   ],
   "source": [
    "# df i region degiskenine gore duz ve bu siralamanin uzerine ayni zamanda family members degiskenine gore tersten siralayiniz.    \n",
    "# df_reg_fam adi ile kaydediniz \n",
    "df_reg_fam = df.sort_values([\"region\", \"family_members\"], ascending = [True, False])\n",
    "\n",
    "# df_reg_fam in ilk 5 gozlemini yazdiriniz\n",
    "print(df_reg_fam.head())"
   ]
  },
  {
   "cell_type": "markdown",
   "metadata": {},
   "source": [
    "28. var = df['variable_name']"
   ]
  },
  {
   "cell_type": "code",
   "execution_count": 158,
   "metadata": {},
   "outputs": [
    {
     "name": "stdout",
     "output_type": "stream",
     "text": [
      "0      2570.0\n",
      "1      1434.0\n",
      "2      7259.0\n",
      "3      2280.0\n",
      "4    109008.0\n",
      "Name: individuals, dtype: float64\n"
     ]
    }
   ],
   "source": [
    "#  individuals  degiskenini seciniz ve individuals adi ile kaydediniz\n",
    "individuals = df[\"individuals\"]\n",
    "\n",
    "\n",
    "# individuals in ilk 5 gozlemini yazdiriniz\n",
    "print(individuals.head())"
   ]
  },
  {
   "cell_type": "markdown",
   "metadata": {},
   "source": [
    "29. df[['variable_name1','variable_name2']]"
   ]
  },
  {
   "cell_type": "code",
   "execution_count": 159,
   "metadata": {},
   "outputs": [
    {
     "name": "stdout",
     "output_type": "stream",
     "text": [
      "        state  family_members\n",
      "0     Alabama           864.0\n",
      "1      Alaska           582.0\n",
      "2     Arizona          2606.0\n",
      "3    Arkansas           432.0\n",
      "4  California         20964.0\n"
     ]
    }
   ],
   "source": [
    "# state ve family_members degiskenlerini seciniz:   state_fam \n",
    "state_fam = df[[\"state\", \"family_members\"]]\n",
    "\n",
    "# sonucun bas kismini yazdiriniz\n",
    "print(state_fam.head())"
   ]
  },
  {
   "cell_type": "code",
   "execution_count": 160,
   "metadata": {},
   "outputs": [
    {
     "name": "stdout",
     "output_type": "stream",
     "text": [
      "        state  individuals\n",
      "0     Alabama       2570.0\n",
      "1      Alaska       1434.0\n",
      "2     Arizona       7259.0\n",
      "3    Arkansas       2280.0\n",
      "4  California     109008.0\n"
     ]
    }
   ],
   "source": [
    "# individuals ve state columns degiskenlerini seciniz:  ind_state\n",
    "ind_state = df[[\"state\", \"individuals\"]]\n",
    "\n",
    "\n",
    "# sonucun bas kismini yazdiriniz\n",
    "print(ind_state.head())"
   ]
  },
  {
   "cell_type": "markdown",
   "metadata": {},
   "source": [
    "30. df[ df['variable'] > 100 ]"
   ]
  },
  {
   "cell_type": "code",
   "execution_count": 161,
   "metadata": {},
   "outputs": [
    {
     "name": "stdout",
     "output_type": "stream",
     "text": [
      "                region       state  individuals  family_members  state_pop\n",
      "4              Pacific  California     109008.0         20964.0   39461588\n",
      "9       South Atlantic     Florida      21443.0          9587.0   21244317\n",
      "32        Mid-Atlantic    New York      39827.0         52070.0   19530351\n",
      "37             Pacific      Oregon      11139.0          3337.0    4181886\n",
      "43  West South Central       Texas      19199.0          6111.0   28628666\n",
      "47             Pacific  Washington      16424.0          5880.0    7523869\n"
     ]
    }
   ],
   "source": [
    "# individuals degerinin  10000  den fazla oldugu gozlemleri seciniz:  ind_buyuk_10k\n",
    "ind_buyuk_10k = df[df[\"individuals\"] > 10000]\n",
    "\n",
    "# ind_buyuk_10k u yazdiriniz\n",
    "print(ind_buyuk_10k)"
   ]
  },
  {
   "cell_type": "markdown",
   "metadata": {},
   "source": [
    "31. df[ df['variable']=='example' ]"
   ]
  },
  {
   "cell_type": "code",
   "execution_count": 162,
   "metadata": {},
   "outputs": [
    {
     "name": "stdout",
     "output_type": "stream",
     "text": [
      "      region       state  individuals  family_members  state_pop\n",
      "2   Mountain     Arizona       7259.0          2606.0    7158024\n",
      "5   Mountain    Colorado       7607.0          3250.0    5691287\n",
      "12  Mountain       Idaho       1297.0           715.0    1750536\n",
      "26  Mountain     Montana        983.0           422.0    1060665\n",
      "28  Mountain      Nevada       7058.0           486.0    3027341\n",
      "31  Mountain  New Mexico       1949.0           602.0    2092741\n",
      "44  Mountain        Utah       1904.0           972.0    3153550\n",
      "50  Mountain     Wyoming        434.0           205.0     577601\n"
     ]
    }
   ],
   "source": [
    "#  region degiskeni  Mountain  olan gozlemleri deciniz:  mountain_reg\n",
    "mountain_reg = df[df[\"region\"] == \"Mountain\"]\n",
    "\n",
    "\n",
    "# sonucu gorelim\n",
    "print(mountain_reg)"
   ]
  },
  {
   "cell_type": "markdown",
   "metadata": {},
   "source": [
    "32. df[(df[\"variable1\"] < 100) & (df[\"variable2\"] == \"example\")]"
   ]
  },
  {
   "cell_type": "code",
   "execution_count": 164,
   "metadata": {},
   "outputs": [
    {
     "name": "stdout",
     "output_type": "stream",
     "text": [
      "    region   state  individuals  family_members  state_pop\n",
      "1  Pacific  Alaska       1434.0           582.0     735139\n"
     ]
    }
   ],
   "source": [
    "# family_members degeri 1000 den kucuk olan ve region i Pacific  olan gozlemleri seciniz: fam_buyuk_1k_pac\n",
    "fam_buyuk_1k_pac = df[(df[\"region\"] == \"Pacific\") & (df[\"family_members\"] < 1000)]\n",
    "\n",
    "# sonucu gorelim\n",
    "print(fam_buyuk_1k_pac)"
   ]
  },
  {
   "cell_type": "markdown",
   "metadata": {},
   "source": [
    "33. df[\"variable\"] .isin([a,b,c,d])"
   ]
  },
  {
   "cell_type": "raw",
   "metadata": {},
   "source": [
    "BILGI:\n",
    "\n",
    "colors = [\"brown\", \"black\", \"tan\"]\n",
    "condition = dogs[\"color\"].isin(colors)\n",
    "dogs[condition]\n",
    "\n",
    "veya\n",
    "\n",
    "colors = [\"brown\", \"black\", \"tan\"]\n",
    "dogs[ dogs[\"color\"].isin(colors) ]"
   ]
  },
  {
   "cell_type": "code",
   "execution_count": 167,
   "metadata": {},
   "outputs": [
    {
     "name": "stdout",
     "output_type": "stream",
     "text": [
      "            region                 state  individuals  family_members  \\\n",
      "7   South Atlantic              Delaware        708.0           374.0   \n",
      "8   South Atlantic  District of Columbia       3770.0          3134.0   \n",
      "9   South Atlantic               Florida      21443.0          9587.0   \n",
      "10  South Atlantic               Georgia       6943.0          2556.0   \n",
      "20  South Atlantic              Maryland       4914.0          2230.0   \n",
      "30    Mid-Atlantic            New Jersey       6048.0          3350.0   \n",
      "32    Mid-Atlantic              New York      39827.0         52070.0   \n",
      "33  South Atlantic        North Carolina       6451.0          2817.0   \n",
      "38    Mid-Atlantic          Pennsylvania       8163.0          5349.0   \n",
      "40  South Atlantic        South Carolina       3082.0           851.0   \n",
      "46  South Atlantic              Virginia       3928.0          2047.0   \n",
      "48  South Atlantic         West Virginia       1021.0           222.0   \n",
      "\n",
      "    state_pop  \n",
      "7      965479  \n",
      "8      701547  \n",
      "9    21244317  \n",
      "10   10511131  \n",
      "20    6035802  \n",
      "30    8886025  \n",
      "32   19530351  \n",
      "33   10381615  \n",
      "38   12800922  \n",
      "40    5084156  \n",
      "46    8501286  \n",
      "48    1804291  \n"
     ]
    }
   ],
   "source": [
    "# region degiskeni   South Atlantic  veya  Mid-Atlantic  olan gozlemleri seciniz:  south_mid_atlantic\n",
    "south_mid_atlantic = df[df[\"region\"].isin([\"South Atlantic\", \"Mid-Atlantic\"])]\n",
    "\n",
    "\n",
    "# gorelim\n",
    "print(south_mid_atlantic)"
   ]
  },
  {
   "cell_type": "markdown",
   "metadata": {},
   "source": [
    "34. df[df['column'].isin(a_list)]"
   ]
  },
  {
   "cell_type": "code",
   "execution_count": 171,
   "metadata": {},
   "outputs": [
    {
     "name": "stdout",
     "output_type": "stream",
     "text": [
      "      region       state  individuals  family_members  state_pop\n",
      "2   Mountain     Arizona       7259.0          2606.0    7158024\n",
      "4    Pacific  California     109008.0         20964.0   39461588\n",
      "28  Mountain      Nevada       7058.0           486.0    3027341\n",
      "44  Mountain        Utah       1904.0           972.0    3153550\n"
     ]
    }
   ],
   "source": [
    "cities = [\"California\", \"Arizona\", \"Nevada\", \"Utah\"]\n",
    "\n",
    "# state degiskeni  cities  listesinin icinde olan gozlemleri seciniz/filtreleyiniz:  cities_df\n",
    "cities_df = df[df[\"state\"].isin(cities)]\n",
    "\n",
    "# gorelim\n",
    "print(cities_df)"
   ]
  },
  {
   "cell_type": "markdown",
   "metadata": {},
   "source": [
    "35. Simple Feature Engineering"
   ]
  },
  {
   "cell_type": "code",
   "execution_count": 207,
   "metadata": {},
   "outputs": [
    {
     "name": "stdout",
     "output_type": "stream",
     "text": [
      "               region       state  individuals  family_members  state_pop  \\\n",
      "0  East South Central     Alabama       2570.0           864.0    4887681   \n",
      "1             Pacific      Alaska       1434.0           582.0     735139   \n",
      "2            Mountain     Arizona       7259.0          2606.0    7158024   \n",
      "3  West South Central    Arkansas       2280.0           432.0    3009733   \n",
      "4             Pacific  California     109008.0         20964.0   39461588   \n",
      "\n",
      "      total  o_individuals  \n",
      "0    3434.0            1.0  \n",
      "1    2016.0            1.0  \n",
      "2    9865.0            1.0  \n",
      "3    2712.0            1.0  \n",
      "4  129972.0            1.0  \n"
     ]
    }
   ],
   "source": [
    "# individuals  ve  family_members  degiskenlerinin toplamini belirten  total  adli bir degisken ekleyiniz\n",
    "df[\"total\"] = df[\"individuals\"] + df[\"family_members\"]\n",
    "\n",
    "# tek yasayan evsizlerin tum evsizlere olan oranini belirten bir degisken ekleyiniz: o_individuals\n",
    "# bunu  individuals / total ile bulabiliriz:\n",
    "df[\"o_individuals\"] = df[\"individuals\"] / df[\"individuals\"]\n",
    "\n",
    "\n",
    "# df.head() in son hali:\n",
    "#print(df.head())\n",
    "print(df.head())"
   ]
  },
  {
   "cell_type": "markdown",
   "metadata": {},
   "source": [
    "36. Simple Feature Engineering"
   ]
  },
  {
   "cell_type": "code",
   "execution_count": 208,
   "metadata": {},
   "outputs": [
    {
     "name": "stdout",
     "output_type": "stream",
     "text": [
      "                   state  indiv_per_10k\n",
      "8   District of Columbia      53.738381\n",
      "11                Hawaii      29.079406\n",
      "4             California      27.623825\n",
      "37                Oregon      26.636307\n",
      "28                Nevada      23.314189\n",
      "47            Washington      21.829195\n",
      "32              New York      20.392363\n"
     ]
    }
   ],
   "source": [
    "# tek yasayan evsizlerin sehir populasyonuna oranini bulunuz, bu kisi basi kac tane evsiz oldugu anlamina gelir\n",
    "# bu orani 10000 ile carparsak 10000 kiside kac tane evsiz vardir buna ulasiriz\n",
    "# bu bilgiyi  indiv_per_10k  degisken adi ile df e ekleyiniz\n",
    "df[\"indiv_per_10k\"] = df[\"individuals\"] / df[\"state_pop\"] * 10000\n",
    "\n",
    "\n",
    "# 10000 kiside 20 den fazla evsizin bulundugu sehirleri seciniz/filtreleyiniz, yeni df yi  high_df  adi ile kaydediniz\n",
    "high_df = df[df[\"indiv_per_10k\"] > 20]\n",
    "\n",
    "\n",
    "# high_df  dataframeini  indiv_per_10k  degiskenine gore buyukten kucuge dogru siralayiniz: high_df_srt\n",
    "high_df_srt = high_df.sort_values(['indiv_per_10k'], ascending=False)\n",
    "\n",
    "# high_df_srt  dataframinin  state  ve  indiv_per_10k   degiskenlerini seciniz: sonuc\n",
    "sonuc = high_df_srt[['state','indiv_per_10k']]\n",
    "\n",
    "# gorelim\n",
    "print(sonuc)"
   ]
  },
  {
   "cell_type": "markdown",
   "metadata": {
    "toc-hr-collapsed": false
   },
   "source": [
    "## Aggregating"
   ]
  },
  {
   "cell_type": "markdown",
   "metadata": {
    "toc-hr-collapsed": false
   },
   "source": [
    "### ozet istatistikler"
   ]
  },
  {
   "cell_type": "code",
   "execution_count": 209,
   "metadata": {},
   "outputs": [],
   "source": [
    "import pandas as pd\n",
    "# !!!  yukaridaki dataframe i df olarak kaydettik, buradaki dataframe i farkli bir isimle kaydedelim:\n",
    "satislar = pd.read_pickle(\"walmart_sales.pkl\")"
   ]
  },
  {
   "cell_type": "markdown",
   "metadata": {},
   "source": [
    "37. satislar dataframe'inin ilk bes gozlemini yazdiriniz"
   ]
  },
  {
   "cell_type": "code",
   "execution_count": 211,
   "metadata": {},
   "outputs": [
    {
     "data": {
      "text/html": [
       "<div>\n",
       "<style scoped>\n",
       "    .dataframe tbody tr th:only-of-type {\n",
       "        vertical-align: middle;\n",
       "    }\n",
       "\n",
       "    .dataframe tbody tr th {\n",
       "        vertical-align: top;\n",
       "    }\n",
       "\n",
       "    .dataframe thead th {\n",
       "        text-align: right;\n",
       "    }\n",
       "</style>\n",
       "<table border=\"1\" class=\"dataframe\">\n",
       "  <thead>\n",
       "    <tr style=\"text-align: right;\">\n",
       "      <th></th>\n",
       "      <th>store</th>\n",
       "      <th>type</th>\n",
       "      <th>department</th>\n",
       "      <th>date</th>\n",
       "      <th>weekly_sales</th>\n",
       "      <th>is_holiday</th>\n",
       "      <th>temperature_c</th>\n",
       "      <th>fuel_price_usd_per_l</th>\n",
       "      <th>unemployment</th>\n",
       "    </tr>\n",
       "  </thead>\n",
       "  <tbody>\n",
       "    <tr>\n",
       "      <th>0</th>\n",
       "      <td>1</td>\n",
       "      <td>A</td>\n",
       "      <td>1</td>\n",
       "      <td>2010-02-05</td>\n",
       "      <td>24924.50</td>\n",
       "      <td>False</td>\n",
       "      <td>5.727778</td>\n",
       "      <td>0.679451</td>\n",
       "      <td>8.106</td>\n",
       "    </tr>\n",
       "    <tr>\n",
       "      <th>1</th>\n",
       "      <td>1</td>\n",
       "      <td>A</td>\n",
       "      <td>2</td>\n",
       "      <td>2010-02-05</td>\n",
       "      <td>50605.27</td>\n",
       "      <td>False</td>\n",
       "      <td>5.727778</td>\n",
       "      <td>0.679451</td>\n",
       "      <td>8.106</td>\n",
       "    </tr>\n",
       "    <tr>\n",
       "      <th>2</th>\n",
       "      <td>1</td>\n",
       "      <td>A</td>\n",
       "      <td>3</td>\n",
       "      <td>2010-02-05</td>\n",
       "      <td>13740.12</td>\n",
       "      <td>False</td>\n",
       "      <td>5.727778</td>\n",
       "      <td>0.679451</td>\n",
       "      <td>8.106</td>\n",
       "    </tr>\n",
       "    <tr>\n",
       "      <th>3</th>\n",
       "      <td>1</td>\n",
       "      <td>A</td>\n",
       "      <td>4</td>\n",
       "      <td>2010-02-05</td>\n",
       "      <td>39954.04</td>\n",
       "      <td>False</td>\n",
       "      <td>5.727778</td>\n",
       "      <td>0.679451</td>\n",
       "      <td>8.106</td>\n",
       "    </tr>\n",
       "    <tr>\n",
       "      <th>4</th>\n",
       "      <td>1</td>\n",
       "      <td>A</td>\n",
       "      <td>5</td>\n",
       "      <td>2010-02-05</td>\n",
       "      <td>32229.38</td>\n",
       "      <td>False</td>\n",
       "      <td>5.727778</td>\n",
       "      <td>0.679451</td>\n",
       "      <td>8.106</td>\n",
       "    </tr>\n",
       "  </tbody>\n",
       "</table>\n",
       "</div>"
      ],
      "text/plain": [
       "   store type  department       date  weekly_sales  is_holiday  temperature_c  \\\n",
       "0      1    A           1 2010-02-05      24924.50       False       5.727778   \n",
       "1      1    A           2 2010-02-05      50605.27       False       5.727778   \n",
       "2      1    A           3 2010-02-05      13740.12       False       5.727778   \n",
       "3      1    A           4 2010-02-05      39954.04       False       5.727778   \n",
       "4      1    A           5 2010-02-05      32229.38       False       5.727778   \n",
       "\n",
       "   fuel_price_usd_per_l  unemployment  \n",
       "0              0.679451         8.106  \n",
       "1              0.679451         8.106  \n",
       "2              0.679451         8.106  \n",
       "3              0.679451         8.106  \n",
       "4              0.679451         8.106  "
      ]
     },
     "execution_count": 211,
     "metadata": {},
     "output_type": "execute_result"
    }
   ],
   "source": [
    "satislar.head()"
   ]
  },
  {
   "cell_type": "markdown",
   "metadata": {},
   "source": [
    "38. satislar dataframe'i hakkinda yapisal bilgileri yazdirin"
   ]
  },
  {
   "cell_type": "code",
   "execution_count": 212,
   "metadata": {},
   "outputs": [
    {
     "name": "stdout",
     "output_type": "stream",
     "text": [
      "<class 'pandas.core.frame.DataFrame'>\n",
      "Int64Index: 413119 entries, 0 to 413118\n",
      "Data columns (total 9 columns):\n",
      " #   Column                Non-Null Count   Dtype         \n",
      "---  ------                --------------   -----         \n",
      " 0   store                 413119 non-null  int64         \n",
      " 1   type                  413119 non-null  object        \n",
      " 2   department            413119 non-null  int32         \n",
      " 3   date                  413119 non-null  datetime64[ns]\n",
      " 4   weekly_sales          413119 non-null  float64       \n",
      " 5   is_holiday            413119 non-null  bool          \n",
      " 6   temperature_c         413119 non-null  float64       \n",
      " 7   fuel_price_usd_per_l  413119 non-null  float64       \n",
      " 8   unemployment          413119 non-null  float64       \n",
      "dtypes: bool(1), datetime64[ns](1), float64(4), int32(1), int64(1), object(1)\n",
      "memory usage: 27.2+ MB\n"
     ]
    }
   ],
   "source": [
    "satislar.info()"
   ]
  },
  {
   "cell_type": "markdown",
   "metadata": {},
   "source": [
    "39. weekly_sales degiskeninin ortalamasini yazdiriniz:"
   ]
  },
  {
   "cell_type": "code",
   "execution_count": 218,
   "metadata": {},
   "outputs": [
    {
     "data": {
      "text/plain": [
       "16094.726811185497"
      ]
     },
     "execution_count": 218,
     "metadata": {},
     "output_type": "execute_result"
    }
   ],
   "source": [
    "satislar[\"weekly_sales\"].mean()"
   ]
  },
  {
   "cell_type": "markdown",
   "metadata": {},
   "source": [
    "40. weekly_sales degiskeninin ortanca degerini yazdiriniz: "
   ]
  },
  {
   "cell_type": "code",
   "execution_count": 219,
   "metadata": {},
   "outputs": [
    {
     "data": {
      "text/plain": [
       "7682.47"
      ]
     },
     "execution_count": 219,
     "metadata": {},
     "output_type": "execute_result"
    }
   ],
   "source": [
    "satislar[\"weekly_sales\"].median()"
   ]
  },
  {
   "cell_type": "markdown",
   "metadata": {},
   "source": [
    "41. Son satilan urun hangi tarihte satilmistir"
   ]
  },
  {
   "cell_type": "code",
   "execution_count": 220,
   "metadata": {},
   "outputs": [
    {
     "data": {
      "text/plain": [
       "Timestamp('2012-10-26 00:00:00')"
      ]
     },
     "execution_count": 220,
     "metadata": {},
     "output_type": "execute_result"
    }
   ],
   "source": [
    "satislar[\"date\"].max()"
   ]
  },
  {
   "cell_type": "markdown",
   "metadata": {},
   "source": [
    "42. Ilk satilan urun hangi tarihte satilmistir"
   ]
  },
  {
   "cell_type": "code",
   "execution_count": 221,
   "metadata": {},
   "outputs": [
    {
     "data": {
      "text/plain": [
       "Timestamp('2010-02-05 00:00:00')"
      ]
     },
     "execution_count": 221,
     "metadata": {},
     "output_type": "execute_result"
    }
   ],
   "source": [
    "satislar[\"date\"].min()"
   ]
  },
  {
   "cell_type": "markdown",
   "metadata": {},
   "source": [
    "43. satislar['variable'].agg(a_function)"
   ]
  },
  {
   "cell_type": "raw",
   "metadata": {},
   "source": [
    "df.column.agg(function)"
   ]
  },
  {
   "cell_type": "raw",
   "metadata": {},
   "source": [
    "df['column1','column2','column3'].agg(['function1','function2'])"
   ]
  },
  {
   "cell_type": "code",
   "execution_count": 222,
   "metadata": {},
   "outputs": [
    {
     "name": "stdout",
     "output_type": "stream",
     "text": [
      "15.299999999999994\n"
     ]
    }
   ],
   "source": [
    "# kendi tanimladigimiz bir IQR fonk u:\n",
    "def iqr(kolon):\n",
    "    #Bu fonk, gelen kolonlarin 3.ceyrek degeri ile 1.ceyrek degeri arasindaki farki geri dondurur\"\"\"\n",
    "    return kolon.quantile(0.75) - kolon.quantile(0.25)\n",
    "    \n",
    "# satis dataframe inin  temperature_c  degiskeninin  IQR  degerini yazdiralim\n",
    "# DIKKAT! : bir fonk agg() ile kullanilinca () ve parametre kullanilmaz. \n",
    "# agg(fonk)  seklinde yazildiginda parametresini otomatik alir\n",
    "print(satislar['temperature_c'].agg(iqr))"
   ]
  },
  {
   "cell_type": "code",
   "execution_count": 235,
   "metadata": {},
   "outputs": [
    {
     "data": {
      "text/plain": [
       "temperature_c           15.300000\n",
       "fuel_price_usd_per_l     0.211866\n",
       "unemployment             1.672000\n",
       "dtype: float64"
      ]
     },
     "execution_count": 235,
     "metadata": {},
     "output_type": "execute_result"
    }
   ],
   "source": [
    "# yukaridaki gibi temperature_c, fuel_price_usd_per_l ve unemployment degiskenlerinin IQR degerlerini yazdiriniz\n",
    "satislar[[\"temperature_c\", \"fuel_price_usd_per_l\", \"unemployment\"]].agg(iqr)"
   ]
  },
  {
   "cell_type": "code",
   "execution_count": 236,
   "metadata": {},
   "outputs": [
    {
     "data": {
      "text/html": [
       "<div>\n",
       "<style scoped>\n",
       "    .dataframe tbody tr th:only-of-type {\n",
       "        vertical-align: middle;\n",
       "    }\n",
       "\n",
       "    .dataframe tbody tr th {\n",
       "        vertical-align: top;\n",
       "    }\n",
       "\n",
       "    .dataframe thead th {\n",
       "        text-align: right;\n",
       "    }\n",
       "</style>\n",
       "<table border=\"1\" class=\"dataframe\">\n",
       "  <thead>\n",
       "    <tr style=\"text-align: right;\">\n",
       "      <th></th>\n",
       "      <th>temperature_c</th>\n",
       "      <th>fuel_price_usd_per_l</th>\n",
       "      <th>unemployment</th>\n",
       "    </tr>\n",
       "  </thead>\n",
       "  <tbody>\n",
       "    <tr>\n",
       "      <th>iqr</th>\n",
       "      <td>15.30</td>\n",
       "      <td>0.211866</td>\n",
       "      <td>1.672</td>\n",
       "    </tr>\n",
       "    <tr>\n",
       "      <th>median</th>\n",
       "      <td>16.75</td>\n",
       "      <td>0.911922</td>\n",
       "      <td>7.852</td>\n",
       "    </tr>\n",
       "  </tbody>\n",
       "</table>\n",
       "</div>"
      ],
      "text/plain": [
       "        temperature_c  fuel_price_usd_per_l  unemployment\n",
       "iqr             15.30              0.211866         1.672\n",
       "median          16.75              0.911922         7.852"
      ]
     },
     "execution_count": 236,
     "metadata": {},
     "output_type": "execute_result"
    }
   ],
   "source": [
    "import numpy as np\n",
    "# yukaridaki kodu editleyip, iqr fonksiyonu ile birlikte np.median fonk unu da beraber aggregate ediniz\n",
    "satislar[[\"temperature_c\", \"fuel_price_usd_per_l\", \"unemployment\"]].agg([iqr, np.median])"
   ]
  },
  {
   "cell_type": "markdown",
   "metadata": {
    "toc-hr-collapsed": false
   },
   "source": [
    "## Kumulatif islemler"
   ]
  },
  {
   "cell_type": "code",
   "execution_count": 237,
   "metadata": {},
   "outputs": [],
   "source": [
    "# store 1 ve department 1 secilip ilk 20 gozlem uzerinde calisalim: \n",
    "# bu dataframe'i satislar1 adiyla kaydedelim.\n",
    "satislar1 = satislar[  (satislar['store']==1) & (satislar['department']==1 )  ]\n",
    "satislar1 = satislar1[:20]"
   ]
  },
  {
   "cell_type": "code",
   "execution_count": 238,
   "metadata": {},
   "outputs": [
    {
     "data": {
      "text/html": [
       "<div>\n",
       "<style scoped>\n",
       "    .dataframe tbody tr th:only-of-type {\n",
       "        vertical-align: middle;\n",
       "    }\n",
       "\n",
       "    .dataframe tbody tr th {\n",
       "        vertical-align: top;\n",
       "    }\n",
       "\n",
       "    .dataframe thead th {\n",
       "        text-align: right;\n",
       "    }\n",
       "</style>\n",
       "<table border=\"1\" class=\"dataframe\">\n",
       "  <thead>\n",
       "    <tr style=\"text-align: right;\">\n",
       "      <th></th>\n",
       "      <th>store</th>\n",
       "      <th>type</th>\n",
       "      <th>department</th>\n",
       "      <th>date</th>\n",
       "      <th>weekly_sales</th>\n",
       "      <th>is_holiday</th>\n",
       "      <th>temperature_c</th>\n",
       "      <th>fuel_price_usd_per_l</th>\n",
       "      <th>unemployment</th>\n",
       "    </tr>\n",
       "  </thead>\n",
       "  <tbody>\n",
       "    <tr>\n",
       "      <th>0</th>\n",
       "      <td>1</td>\n",
       "      <td>A</td>\n",
       "      <td>1</td>\n",
       "      <td>2010-02-05</td>\n",
       "      <td>24924.50</td>\n",
       "      <td>False</td>\n",
       "      <td>5.727778</td>\n",
       "      <td>0.679451</td>\n",
       "      <td>8.106</td>\n",
       "    </tr>\n",
       "    <tr>\n",
       "      <th>73</th>\n",
       "      <td>1</td>\n",
       "      <td>A</td>\n",
       "      <td>1</td>\n",
       "      <td>2010-02-12</td>\n",
       "      <td>46039.49</td>\n",
       "      <td>True</td>\n",
       "      <td>3.616667</td>\n",
       "      <td>0.673111</td>\n",
       "      <td>8.106</td>\n",
       "    </tr>\n",
       "    <tr>\n",
       "      <th>145</th>\n",
       "      <td>1</td>\n",
       "      <td>A</td>\n",
       "      <td>1</td>\n",
       "      <td>2010-02-19</td>\n",
       "      <td>41595.55</td>\n",
       "      <td>False</td>\n",
       "      <td>4.405556</td>\n",
       "      <td>0.664129</td>\n",
       "      <td>8.106</td>\n",
       "    </tr>\n",
       "    <tr>\n",
       "      <th>218</th>\n",
       "      <td>1</td>\n",
       "      <td>A</td>\n",
       "      <td>1</td>\n",
       "      <td>2010-02-26</td>\n",
       "      <td>19403.54</td>\n",
       "      <td>False</td>\n",
       "      <td>8.127778</td>\n",
       "      <td>0.676545</td>\n",
       "      <td>8.106</td>\n",
       "    </tr>\n",
       "    <tr>\n",
       "      <th>290</th>\n",
       "      <td>1</td>\n",
       "      <td>A</td>\n",
       "      <td>1</td>\n",
       "      <td>2010-03-05</td>\n",
       "      <td>21827.90</td>\n",
       "      <td>False</td>\n",
       "      <td>8.055556</td>\n",
       "      <td>0.693452</td>\n",
       "      <td>8.106</td>\n",
       "    </tr>\n",
       "  </tbody>\n",
       "</table>\n",
       "</div>"
      ],
      "text/plain": [
       "     store type  department       date  weekly_sales  is_holiday  \\\n",
       "0        1    A           1 2010-02-05      24924.50       False   \n",
       "73       1    A           1 2010-02-12      46039.49        True   \n",
       "145      1    A           1 2010-02-19      41595.55       False   \n",
       "218      1    A           1 2010-02-26      19403.54       False   \n",
       "290      1    A           1 2010-03-05      21827.90       False   \n",
       "\n",
       "     temperature_c  fuel_price_usd_per_l  unemployment  \n",
       "0         5.727778              0.679451         8.106  \n",
       "73        3.616667              0.673111         8.106  \n",
       "145       4.405556              0.664129         8.106  \n",
       "218       8.127778              0.676545         8.106  \n",
       "290       8.055556              0.693452         8.106  "
      ]
     },
     "execution_count": 238,
     "metadata": {},
     "output_type": "execute_result"
    }
   ],
   "source": [
    "satislar1.head()"
   ]
  },
  {
   "cell_type": "markdown",
   "metadata": {},
   "source": [
    "44. Feature Engineering: .cumsum() .cummax()"
   ]
  },
  {
   "cell_type": "code",
   "execution_count": 240,
   "metadata": {},
   "outputs": [
    {
     "name": "stdout",
     "output_type": "stream",
     "text": [
      "             date  weekly_sales  cum_weekly_sales  cum_max_sales\n",
      "0      2010-02-05      24924.50      2.492450e+04       24924.50\n",
      "10287  2010-02-05       2357.00      2.728150e+04       24924.50\n",
      "10286  2010-02-05      30328.88      5.761038e+04       30328.88\n",
      "10285  2010-02-05         27.50      5.763788e+04       30328.88\n",
      "10284  2010-02-05       8788.47      6.642635e+04       30328.88\n",
      "...           ...           ...               ...            ...\n",
      "157399 2012-10-26       2167.70      6.648959e+09      693099.36\n",
      "157400 2012-10-26       7285.14      6.648966e+09      693099.36\n",
      "157401 2012-10-26      15279.13      6.648981e+09      693099.36\n",
      "157403 2012-10-26      18290.34      6.649000e+09      693099.36\n",
      "413118 2012-10-26      37857.64      6.649037e+09      693099.36\n",
      "\n",
      "[413119 rows x 4 columns]\n"
     ]
    }
   ],
   "source": [
    "# satislar i date e gore siralayiniz ve ayni isimle kaydediniz: satislar1\n",
    "satislar1 = satislar.sort_values(\"date\")\n",
    "\n",
    "# satislar1 i weekly_sales e gore kumulatif toplamini aliniz ve \n",
    "# cum_weekly_sales adiyla yeni bir degisken olarak atayiniz\n",
    "satislar1['cum_weekly_sales'] = satislar1.weekly_sales.cumsum()\n",
    "\n",
    "# satislar1 i weekly_sales e gore kumulatif max ini aliniz ve \n",
    "# cum_max_sales adiyla yeni bir degisken olarak atayiniz\n",
    "satislar1[\"cum_max_sales\"] = satislar1[\"weekly_sales\"].cummax()\n",
    "\n",
    "# ilgili degiskenleri secip yazdiriniz\n",
    "print(satislar1[[\"date\", \"weekly_sales\", \"cum_weekly_sales\", \"cum_max_sales\"]])"
   ]
  },
  {
   "cell_type": "markdown",
   "metadata": {},
   "source": [
    "Bu soruda, satislar verisini tarihe gore siraladik, her hafta o haftaya kadar olan toplam satisi hesapladik, ve her hafta o haftaya kadar gecen haftalar icindeki max satisi mevcut haftaya yazdik."
   ]
  },
  {
   "cell_type": "markdown",
   "metadata": {},
   "source": [
    "45. df.drop_duplicates(['var1'])"
   ]
  },
  {
   "cell_type": "code",
   "execution_count": 254,
   "metadata": {},
   "outputs": [
    {
     "name": "stdout",
     "output_type": "stream",
     "text": [
      "       store type  department  is_holiday\n",
      "0          1    A           1       False\n",
      "10244      2    A           1       False\n",
      "20482      3    B           1       False\n",
      "29518      4    A           1       False\n",
      "39790      5    B           1       False\n",
      "       store type  department  is_holiday\n",
      "0          1    A           1       False\n",
      "10244      2    A           1       False\n",
      "20482      3    B           1       False\n",
      "29518      4    A           1       False\n",
      "39790      5    B           1       False\n",
      "   store type  department  is_holiday\n",
      "0      1    A           1       False\n",
      "1      1    A           2       False\n",
      "2      1    A           3       False\n",
      "3      1    A           4       False\n",
      "4      1    A           5       False\n"
     ]
    }
   ],
   "source": [
    "satislar2 = satislar[['store','type','department','is_holiday']]\n",
    "\n",
    "# store degiskeni tekrar eden gozlemleri teke dusurelim:  store\n",
    "store = satislar2.drop_duplicates(['store'])\n",
    "print(store.head())\n",
    "\n",
    "# store/type ikilisi olarak tekrar eden gozlemleri teke dusurelim:  store_types\n",
    "store_types = satislar2.drop_duplicates(['store','type'])\n",
    "print(store_types.head())\n",
    "\n",
    "# store/department ikilisi olarak tekrar eden gozlemleri teke dusurunuz:  store_depts\n",
    "store_depts = satislar2.drop_duplicates([\"store\", \"department\"])\n",
    "print(store_depts.head())"
   ]
  },
  {
   "cell_type": "code",
   "execution_count": 242,
   "metadata": {},
   "outputs": [
    {
     "name": "stdout",
     "output_type": "stream",
     "text": [
      "           date  weekly_sales\n",
      "73   2010-02-12      46039.49\n",
      "2218 2010-09-10      18194.74\n",
      "3014 2010-11-26      18820.29\n",
      "3372 2010-12-31      19124.58\n",
      "3800 2011-02-11      37887.17\n",
      "5940 2011-09-09      17746.68\n",
      "6731 2011-11-25      20911.25\n",
      "7096 2011-12-30      23350.88\n",
      "7527 2012-02-10      36988.49\n",
      "9667 2012-09-07      18322.37\n"
     ]
    }
   ],
   "source": [
    "# satislar in tatil olan gozlemlerini seciniz ve bunlar uzerinde date e gore tekrar edenleri teke dusurunuz (unique)\n",
    "# satislar_tatil adi ile kaydediniz\n",
    "satislar_tatil = satislar[satislar[\"is_holiday\"] == True].drop_duplicates([\"date\"])\n",
    "\n",
    "# tatil iken haftalik satislari yazdiriniz\n",
    "print(satislar_tatil[['date','weekly_sales']])"
   ]
  },
  {
   "cell_type": "markdown",
   "metadata": {},
   "source": [
    "46. df['variable'].value_counts()"
   ]
  },
  {
   "cell_type": "code",
   "execution_count": 255,
   "metadata": {},
   "outputs": [
    {
     "data": {
      "text/plain": [
       "A    22\n",
       "B    17\n",
       "C     6\n",
       "Name: type, dtype: int64"
      ]
     },
     "execution_count": 255,
     "metadata": {},
     "output_type": "execute_result"
    }
   ],
   "source": [
    "# Tipine gore magaza sayilarini bulunuz: \n",
    "store.columns\n",
    "store_counts = store[\"type\"].value_counts()\n",
    "store_counts"
   ]
  },
  {
   "cell_type": "markdown",
   "metadata": {},
   "source": [
    "47. df['variable'].value_counts(normalize=True)"
   ]
  },
  {
   "cell_type": "code",
   "execution_count": 256,
   "metadata": {},
   "outputs": [
    {
     "data": {
      "text/plain": [
       "A    48.888889\n",
       "B    37.777778\n",
       "C    13.333333\n",
       "Name: type, dtype: float64"
      ]
     },
     "execution_count": 256,
     "metadata": {},
     "output_type": "execute_result"
    }
   ],
   "source": [
    "# Tipine gore magaza oranlarini bulunuz:\n",
    "store_props = store[\"type\"].value_counts(normalize = True) * 100\n",
    "store_props"
   ]
  },
  {
   "cell_type": "markdown",
   "metadata": {},
   "source": [
    "48. df['variable'].value_counts(sort=True)"
   ]
  },
  {
   "cell_type": "code",
   "execution_count": 260,
   "metadata": {},
   "outputs": [
    {
     "data": {
      "text/plain": [
       "1     45\n",
       "9     45\n",
       "4     45\n",
       "6     45\n",
       "8     45\n",
       "      ..\n",
       "37    20\n",
       "50    14\n",
       "43     5\n",
       "39     5\n",
       "65     1\n",
       "Name: department, Length: 81, dtype: int64"
      ]
     },
     "execution_count": 260,
     "metadata": {},
     "output_type": "execute_result"
    }
   ],
   "source": [
    "# Tipine gore magazalarin departman sayilari, sirali olarak yazdiriniz: \n",
    "dept_counts_sorted = store_depts[\"department\"].value_counts(sort = True)\n",
    "dept_counts_sorted"
   ]
  },
  {
   "cell_type": "raw",
   "metadata": {},
   "source": [
    "45 magazada departman1 varmis\n",
    "45 magazada departman9 varmis\n",
    "...\n",
    "sadece 1 tane magazada departman65 varmis"
   ]
  },
  {
   "cell_type": "code",
   "execution_count": 261,
   "metadata": {},
   "outputs": [
    {
     "name": "stdout",
     "output_type": "stream",
     "text": [
      "1     0.013778\n",
      "9     0.013778\n",
      "4     0.013778\n",
      "6     0.013778\n",
      "8     0.013778\n",
      "        ...   \n",
      "37    0.006124\n",
      "50    0.004287\n",
      "43    0.001531\n",
      "39    0.001531\n",
      "65    0.000306\n",
      "Name: department, Length: 81, dtype: float64\n"
     ]
    }
   ],
   "source": [
    "# yukaridaki sonucun oransal degerleri ve siralanmis hali berabear yazdiralim:\n",
    "dept_props_sorted = store_depts['department'].value_counts(sort=True, normalize=True)\n",
    "print(dept_props_sorted)"
   ]
  },
  {
   "cell_type": "markdown",
   "metadata": {},
   "source": [
    "49. "
   ]
  },
  {
   "cell_type": "code",
   "execution_count": 263,
   "metadata": {},
   "outputs": [
    {
     "name": "stdout",
     "output_type": "stream",
     "text": [
      "[4331014722.749999, 1912519195.2199998, 405503527.53999996]\n",
      "[0.65137469 0.28763851 0.0609868 ]\n"
     ]
    }
   ],
   "source": [
    "# Haftalik satislarin tumunun toplami:\n",
    "satislar_hepsi = satislar[\"weekly_sales\"].sum()\n",
    "\n",
    "# A tipinde olan magazalarin tumunun hafalik satis toplamini hesaplayiniz: satislar_A adi ile kaydedinz\n",
    "satislar_A = satislar[satislar[\"type\"] == \"A\"][\"weekly_sales\"].sum()\n",
    "\n",
    "# B tipinde olan magazalarin tumunun haftalik satis toplamini hesaplayiniz: satislar_B adi ile kaydedinz\n",
    "satislar_B = satislar[satislar[\"type\"] == \"B\"][\"weekly_sales\"].sum()\n",
    "\n",
    "# C tipinde olan magazalarin tumunun haftalik satis toplamini hesaplayiniz: satislar_C adi ile kaydedinz\n",
    "satislar_C = satislar[satislar[\"type\"] == \"C\"][\"weekly_sales\"].sum()\n",
    "\n",
    "print([satislar_A, satislar_B, satislar_C])\n",
    "\n",
    "\n",
    "# Herbirinin oranlari:\n",
    "satislarin_oranlari = [satislar_A, satislar_B, satislar_C] / satislar_hepsi\n",
    "print(satislarin_oranlari)"
   ]
  },
  {
   "cell_type": "markdown",
   "metadata": {},
   "source": [
    "50. "
   ]
  },
  {
   "cell_type": "code",
   "execution_count": 264,
   "metadata": {},
   "outputs": [
    {
     "name": "stdout",
     "output_type": "stream",
     "text": [
      "type\n",
      "A    4.331015e+09\n",
      "B    1.912519e+09\n",
      "C    4.055035e+08\n",
      "Name: weekly_sales, dtype: float64\n",
      "type\n",
      "A    0.651375\n",
      "B    0.287639\n",
      "C    0.060987\n",
      "Name: weekly_sales, dtype: float64\n"
     ]
    }
   ],
   "source": [
    "# type a gore guruplayiniz, magaza tiplerinin haftalik satis toplamlarini bulunuz: satislar_tipe_gore\n",
    "satislar_tipe_gore = satislar.groupby(\"type\")[\"weekly_sales\"].sum()\n",
    "print( satislar_tipe_gore )\n",
    "\n",
    "\n",
    "# satis miktarlarini (uc tipin miktarlari) toplamlarina bolerek oranlarini bulunuz\n",
    "satislar_orani = satislar_tipe_gore/sum(satislar_tipe_gore)\n",
    "print(satislar_orani)"
   ]
  },
  {
   "cell_type": "code",
   "execution_count": 266,
   "metadata": {},
   "outputs": [
    {
     "name": "stdout",
     "output_type": "stream",
     "text": [
      "type  is_holiday\n",
      "A     False         4.007612e+09\n",
      "      True          3.234028e+08\n",
      "B     False         1.765411e+09\n",
      "      True          1.471081e+08\n",
      "C     False         3.772478e+08\n",
      "      True          2.825570e+07\n",
      "Name: weekly_sales, dtype: float64\n"
     ]
    }
   ],
   "source": [
    "# haftalik satislari tip ve tatil durumuna a gore guruplayiniz, \n",
    "# (cift guruplama: ornegin tipi A olan magazada tatil olma durumuna gore satis sayilari ... gibi)\n",
    "satislar_tip_ve_tatile_gore = satislar.groupby([\"type\", \"is_holiday\"])[\"weekly_sales\"].sum()\n",
    "\n",
    "\n",
    "print(satislar_tip_ve_tatile_gore)"
   ]
  },
  {
   "cell_type": "code",
   "execution_count": null,
   "metadata": {},
   "outputs": [],
   "source": []
  }
 ],
 "metadata": {
  "kernelspec": {
   "display_name": "Python 3",
   "language": "python",
   "name": "python3"
  },
  "language_info": {
   "codemirror_mode": {
    "name": "ipython",
    "version": 3
   },
   "file_extension": ".py",
   "mimetype": "text/x-python",
   "name": "python",
   "nbconvert_exporter": "python",
   "pygments_lexer": "ipython3",
   "version": "3.7.6"
  }
 },
 "nbformat": 4,
 "nbformat_minor": 4
}
