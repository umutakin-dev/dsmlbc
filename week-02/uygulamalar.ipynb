{
 "cells": [
  {
   "cell_type": "markdown",
   "metadata": {},
   "source": [
    "# Uygulama: 2. Hafta"
   ]
  },
  {
   "cell_type": "markdown",
   "metadata": {},
   "source": [
    "1. En basit hali ile bir fonksiyon tanimlayip fonksiyonu cagiriniz. (Calistiriniz.)"
   ]
  },
  {
   "cell_type": "code",
   "execution_count": 7,
   "metadata": {},
   "outputs": [
    {
     "data": {
      "text/plain": [
       "30"
      ]
     },
     "execution_count": 7,
     "metadata": {},
     "output_type": "execute_result"
    }
   ],
   "source": [
    "def toplama(*x):\n",
    "    toplam = 0\n",
    "    for i in x:\n",
    "        toplam = toplam + i\n",
    "    return toplam\n",
    "        \n",
    "toplama(1,toplama(5, 6), 3, toplama(3, toplama(5, 7)))"
   ]
  },
  {
   "cell_type": "markdown",
   "metadata": {},
   "source": [
    "2. Tek argumanli (parametreli), return'u olmayan bir fonksiyon tanimlayiniz, fonksiyonu cagiriniz."
   ]
  },
  {
   "cell_type": "markdown",
   "metadata": {},
   "source": [
    "3. Tek argumanli, return'u (geri donutu) olan bir fonksiyon tanimlayiniz, fonksiyonu cagiriniz."
   ]
  },
  {
   "cell_type": "markdown",
   "metadata": {},
   "source": [
    "4. Tek argumanli, return ile geri donutu olan bir fonksiyon tanimlayiniz, fonksiyonu cagiriniz, 'sonuc' adli bir degisken ile geri donutu yakalayiniz (atama ile kaydediniz), 'sonuc' degiskenini yazdiriniz."
   ]
  },
  {
   "cell_type": "markdown",
   "metadata": {},
   "source": [
    "5. Asagida bir dataframe'in bir degiskeni secilmis tweets_lang adi ile kaydedilmistir. \n",
    "sonuc olarak  {'en': 97, 'et': 1, 'und': 2} seklinde sozluk yapisinda bir ciktisi olan kodlari yaziniz"
   ]
  },
  {
   "cell_type": "code",
   "execution_count": 8,
   "metadata": {},
   "outputs": [
    {
     "data": {
      "text/plain": [
       "0    en\n",
       "1    en\n",
       "2    et\n",
       "3    en\n",
       "4    en\n",
       "Name: lang, dtype: object"
      ]
     },
     "execution_count": 8,
     "metadata": {},
     "output_type": "execute_result"
    }
   ],
   "source": [
    "import pandas as pd \n",
    "tweets_df = pd.read_csv('tweets.csv')\n",
    "tweets_lang = tweets_df['lang']\n",
    "tweets_lang.head()"
   ]
  },
  {
   "cell_type": "code",
   "execution_count": 23,
   "metadata": {},
   "outputs": [
    {
     "name": "stdout",
     "output_type": "stream",
     "text": [
      "{'en': 97, 'et': 1, 'und': 2}\n",
      "{'en': 97, 'et': 1, 'und': 2}\n",
      "{'en': 97, 'et': 1, 'und': 2}\n"
     ]
    }
   ],
   "source": [
    "dil_sayilari_1 = {}\n",
    "dil_sayilari_2 = {}\n",
    "dil_sayilari_3 = {}\n",
    "\n",
    "col = tweets_df['lang']\n",
    "\n",
    "for dil in col:\n",
    "    \n",
    "    # cozum 1 - inline if\n",
    "    dil_sayilari_1[dil] = dil_sayilari_1[dil] + 1 if dil in dil_sayilari_1.keys() else 1\n",
    "    \n",
    "    # cozum 2 - lambda\n",
    "    say = lambda x : dil_sayilari_2[x] + 1 if x in dil_sayilari_2.keys() else 1\n",
    "    dil_sayilari_2[dil] = say(dil)\n",
    "    \n",
    "    # cozum 3\n",
    "    if dil in dil_sayilari_3.keys():\n",
    "        dil_sayilari_3[dil] += 1\n",
    "    else:\n",
    "        dil_sayilari_3[dil] = 1\n",
    "    \n",
    "print(dil_sayilari_1)\n",
    "print(dil_sayilari_2)\n",
    "print(dil_sayilari_3)"
   ]
  },
  {
   "cell_type": "markdown",
   "metadata": {},
   "source": [
    "6. Yukarida yazmis oldugunuz kodlara fonksiyon giydirerek tekrar ayni sonucu yazdiriniz."
   ]
  },
  {
   "cell_type": "markdown",
   "metadata": {},
   "source": [
    "7. Default argumani olan bir fonksiyon tanimlayiniz, fonksiyonu argumansiz calistiriniz, ayrica argumana farkli bir deger girerek calistiriniz."
   ]
  },
  {
   "cell_type": "markdown",
   "metadata": {},
   "source": [
    "8. Uc adet argumani olan bir fonksiyon tanimlayiniz, iki tanesinin default degeri olsun. Farkli varyasyonlarda fonksiyonu cagiriniz."
   ]
  },
  {
   "cell_type": "markdown",
   "metadata": {},
   "source": [
    "9. Sicaklik birimlerinden Celsius'u Kelvine ceviren fonksiyonu yaziniz."
   ]
  },
  {
   "cell_type": "markdown",
   "metadata": {},
   "source": [
    "10. Input fonksiyonu ile 24h formatinda girilen saat icin asagidaki kurallara gore belirtilen arsilama mesajini yazdiriniz."
   ]
  },
  {
   "cell_type": "markdown",
   "metadata": {},
   "source": [
    "11. Altinci soruda yazdiginiz fonksiyonun argumanini degistirerek ayni sonucu default arguman kullanarak yazdiriniz. Not: kolon_adi='lang' ifadesini kullaniniz."
   ]
  },
  {
   "cell_type": "markdown",
   "metadata": {},
   "source": [
    "12. 'python' ile 'Python' ifadelerinin esit olup olmadigini gosteriniz"
   ]
  },
  {
   "cell_type": "markdown",
   "metadata": {},
   "source": [
    "13. Asagidaki degiskenleri kullanarak dersin matematik olup olmadigini kontrol eden, matematik ise \"Matematik sinavi aciklandi\" ifadesi yazdiran, ayrica puanin 65'ten buyuk olup olmadigini kontrol eden ve 65'ten buyuk ise 'Sinavi Gectiniz' ifadesini cikti olarak yazan kodlari yaziniz."
   ]
  },
  {
   "cell_type": "raw",
   "metadata": {},
   "source": [
    "ders = \"matematik\"\n",
    "puan = 90"
   ]
  },
  {
   "cell_type": "markdown",
   "metadata": {},
   "source": [
    "14. Bir ustteki kodu editleyip tekrar yaziniz: Eger ders 'matematik' degil ise \"Matematik sinavi aciklanmadi\" yazilsin. Ayrica puan'in 65'ten kucuk olmasi halinde \"Sinavdan kaldiniz\" ifadesi yazilsin."
   ]
  },
  {
   "cell_type": "markdown",
   "metadata": {},
   "source": [
    "15. Bir liste olusturunuz ve for ile bu listenin elemanlarini yazdiriniz"
   ]
  },
  {
   "cell_type": "markdown",
   "metadata": {},
   "source": [
    "16. Bir ustte yapiginiz islemi elemanlari otomatik numaralandirarak tekrar yazdiriniz"
   ]
  },
  {
   "cell_type": "markdown",
   "metadata": {},
   "source": [
    "17. Asagida verilen A listesindeki elemanlari for dongusu kullanarak B listesine tasiyiniz."
   ]
  },
  {
   "cell_type": "code",
   "execution_count": null,
   "metadata": {},
   "outputs": [],
   "source": [
    "A = [10,11,12,13,14,15,16]\n",
    "B = []"
   ]
  },
  {
   "cell_type": "markdown",
   "metadata": {},
   "source": [
    "18. Asagida verilen A listesindeki cift sayilari for dongusu kullanarak B listesine tasiyiniz."
   ]
  },
  {
   "cell_type": "code",
   "execution_count": null,
   "metadata": {},
   "outputs": [],
   "source": [
    "A = [10,11,12,13,14,15,16]\n",
    "B = []"
   ]
  },
  {
   "cell_type": "markdown",
   "metadata": {},
   "source": [
    "19. Asagidaki listeleri kullanarak belirtilen sonucu for dongusu kullanarak yazdiriniz."
   ]
  },
  {
   "cell_type": "code",
   "execution_count": 5,
   "metadata": {},
   "outputs": [],
   "source": [
    "adj = [\"yellow\", \"big\", \"tasty\"]\n",
    "fruits = [\"apple\", \"banana\"]"
   ]
  },
  {
   "cell_type": "raw",
   "metadata": {},
   "source": [
    "CIKTI:\n",
    "yellow apple\n",
    "yellow banana\n",
    "big apple\n",
    "big banana\n",
    "tasty apple\n",
    "tasty banana"
   ]
  },
  {
   "cell_type": "markdown",
   "metadata": {},
   "source": [
    "20. Carpim tablosunu for donguleri ile yazdiriniz."
   ]
  },
  {
   "cell_type": "markdown",
   "metadata": {},
   "source": [
    "21. 2000 yilinin subat ayi 29 gun olduguna gore, 2100 yilina kadar subat ayinin 29 gun oldugu yillari for dongusu kullanarak yazdiriniz."
   ]
  },
  {
   "cell_type": "markdown",
   "metadata": {},
   "source": [
    "22. 2000 ile 2100 (yillari dahil olmak uzere) arasinda subat ayinin 29 oldugu yillarin sayisini hesaplayiniz."
   ]
  },
  {
   "cell_type": "markdown",
   "metadata": {},
   "source": [
    "23. Basitlestirilmis bir Bowling oyunu icin bir puan hesaplama yapilmasi isteniyor.\n",
    "- atis_yap() adinda bir fonksiyon yaziniz, bu fonksiyon 0'dan 10'a kadar olan sayilardan rasgele birini secsin, ve yazdirsin.\n",
    "- Eger atis_yap() fonksiyonu 10 sayisini tutturursa Ekrana \"Strike!\" yazilsin."
   ]
  },
  {
   "cell_type": "markdown",
   "metadata": {},
   "source": [
    "24. For dongusu kullanarak arguman olarak girilen sayinin faktöriyelini hesaplayan fonksiyonu yaziniz."
   ]
  },
  {
   "cell_type": "markdown",
   "metadata": {},
   "source": [
    "25. Arguman olarak aldigi kelimeyi tersten yazdiran ayrica ilk harfini buyuk, kalani kucuk harfle yazdiran fonksiyonu yaziniz."
   ]
  },
  {
   "cell_type": "raw",
   "metadata": {},
   "source": [
    "ORNEK:\n",
    "Armut -> Tumra\n",
    "Kalem -> Melak"
   ]
  },
  {
   "cell_type": "code",
   "execution_count": null,
   "metadata": {},
   "outputs": [],
   "source": []
  },
  {
   "cell_type": "code",
   "execution_count": null,
   "metadata": {},
   "outputs": [],
   "source": []
  },
  {
   "cell_type": "code",
   "execution_count": null,
   "metadata": {},
   "outputs": [],
   "source": []
  },
  {
   "cell_type": "code",
   "execution_count": 43,
   "metadata": {},
   "outputs": [
    {
     "name": "stdout",
     "output_type": "stream",
     "text": [
      "Tumra Melak\n"
     ]
    }
   ],
   "source": [
    "print( \"Armut\"[::-1].lower().capitalize(),\n",
    "       \"Kalem\"[::-1].lower().capitalize() )"
   ]
  },
  {
   "cell_type": "code",
   "execution_count": null,
   "metadata": {},
   "outputs": [],
   "source": []
  }
 ],
 "metadata": {
  "kernelspec": {
   "display_name": "Python 3",
   "language": "python",
   "name": "python3"
  },
  "language_info": {
   "codemirror_mode": {
    "name": "ipython",
    "version": 3
   },
   "file_extension": ".py",
   "mimetype": "text/x-python",
   "name": "python",
   "nbconvert_exporter": "python",
   "pygments_lexer": "ipython3",
   "version": "3.7.6"
  }
 },
 "nbformat": 4,
 "nbformat_minor": 4
}
