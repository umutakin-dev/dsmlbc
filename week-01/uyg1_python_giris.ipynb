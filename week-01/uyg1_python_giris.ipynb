{
 "cells": [
  {
   "cell_type": "code",
   "execution_count": null,
   "metadata": {},
   "outputs": [],
   "source": []
  },
  {
   "cell_type": "markdown",
   "metadata": {
    "toc-hr-collapsed": false
   },
   "source": [
    "# Python Programlamaya Giriş"
   ]
  },
  {
   "cell_type": "markdown",
   "metadata": {},
   "source": [
    "#### 1. Matematiksel islemler"
   ]
  },
  {
   "cell_type": "code",
   "execution_count": null,
   "metadata": {},
   "outputs": [],
   "source": [
    "# toplama \n",
    "print(7 + 7)"
   ]
  },
  {
   "cell_type": "code",
   "execution_count": null,
   "metadata": {},
   "outputs": [],
   "source": [
    "# cikarma\n",
    "print(6 - 5)"
   ]
  },
  {
   "cell_type": "code",
   "execution_count": null,
   "metadata": {},
   "outputs": [],
   "source": [
    "# carpma \n",
    "print(4 * 5)"
   ]
  },
  {
   "cell_type": "code",
   "execution_count": null,
   "metadata": {},
   "outputs": [],
   "source": [
    "#bolme \n",
    "print(12 / 2)"
   ]
  },
  {
   "cell_type": "code",
   "execution_count": null,
   "metadata": {},
   "outputs": [],
   "source": [
    "#mod alma \n",
    "print(10 % 7)"
   ]
  },
  {
   "cell_type": "code",
   "execution_count": null,
   "metadata": {},
   "outputs": [],
   "source": [
    "#ustel fonk\n",
    "print(5 ** 2)"
   ]
  },
  {
   "cell_type": "markdown",
   "metadata": {},
   "source": [
    "#### 2. type()"
   ]
  },
  {
   "cell_type": "code",
   "execution_count": 32,
   "metadata": {},
   "outputs": [
    {
     "name": "stdout",
     "output_type": "stream",
     "text": [
      "<class 'int'>\n",
      "<class 'str'>\n",
      "<class 'bool'>\n"
     ]
    }
   ],
   "source": [
    "print(type(15))\n",
    "\n",
    "print(type(\"ornek text\"))\n",
    "\n",
    "print(type(True))"
   ]
  },
  {
   "cell_type": "markdown",
   "metadata": {},
   "source": [
    "#### 3. atama islemi"
   ]
  },
  {
   "cell_type": "code",
   "execution_count": 10,
   "metadata": {},
   "outputs": [
    {
     "name": "stdout",
     "output_type": "stream",
     "text": [
      "10\n"
     ]
    }
   ],
   "source": [
    "x = 10\n",
    "\n",
    "print(x)"
   ]
  },
  {
   "cell_type": "markdown",
   "metadata": {},
   "source": [
    "#### 4. string + string"
   ]
  },
  {
   "cell_type": "code",
   "execution_count": 11,
   "metadata": {},
   "outputs": [
    {
     "name": "stdout",
     "output_type": "stream",
     "text": [
      "kirmizibalon\n"
     ]
    }
   ],
   "source": [
    "print( 'kirmizi' + 'balon' )"
   ]
  },
  {
   "cell_type": "markdown",
   "metadata": {},
   "source": [
    "#### 5. bir integer'i string olarak okumak:"
   ]
  },
  {
   "cell_type": "code",
   "execution_count": 14,
   "metadata": {},
   "outputs": [
    {
     "name": "stdout",
     "output_type": "stream",
     "text": [
      "<class 'int'>\n",
      "<class 'str'>\n"
     ]
    }
   ],
   "source": [
    "x = 50\n",
    "print(type(x))\n",
    "\n",
    "print(type(str(x)))"
   ]
  },
  {
   "cell_type": "markdown",
   "metadata": {},
   "source": [
    "#### SORU 1\n",
    "Ali'nin yasi 25'tir. Ali'nin adini ve yasini iki degiskene atayiniz. Bu degiskenleri kullanip 'Ali25' seklinde yazdiriniz."
   ]
  },
  {
   "cell_type": "markdown",
   "metadata": {},
   "source": [
    "#### COZUM"
   ]
  },
  {
   "cell_type": "code",
   "execution_count": 2,
   "metadata": {},
   "outputs": [
    {
     "name": "stdout",
     "output_type": "stream",
     "text": [
      "Ali25\n"
     ]
    }
   ],
   "source": []
  },
  {
   "cell_type": "markdown",
   "metadata": {},
   "source": [
    "#### SORU 2\n",
    "Problem: Bir surahide 500ml su vardir. 200ml lik bardaklardan 2 bardak su ilave edilirse surahideki toplam su miktarini 900ml olacagini degisken kullanarak gosteriniz"
   ]
  },
  {
   "cell_type": "markdown",
   "metadata": {},
   "source": [
    "#### COZUM"
   ]
  },
  {
   "cell_type": "code",
   "execution_count": 23,
   "metadata": {},
   "outputs": [
    {
     "name": "stdout",
     "output_type": "stream",
     "text": [
      "900\n"
     ]
    }
   ],
   "source": []
  },
  {
   "cell_type": "markdown",
   "metadata": {},
   "source": [
    "#### 6. string ve integer'in beraber kullanimi:"
   ]
  },
  {
   "cell_type": "code",
   "execution_count": 15,
   "metadata": {},
   "outputs": [
    {
     "name": "stdout",
     "output_type": "stream",
     "text": [
      "Cocugun boyu 120 ve kilosu 35'tir\n"
     ]
    }
   ],
   "source": [
    "boy = 120\n",
    "kilo = 35\n",
    "\n",
    "print(\"Cocugun boyu \" + str(120) + \" ve kilosu \" + str(35) + \"'tir\")"
   ]
  },
  {
   "cell_type": "markdown",
   "metadata": {},
   "source": [
    "#### 7. string * int"
   ]
  },
  {
   "cell_type": "code",
   "execution_count": 18,
   "metadata": {},
   "outputs": [
    {
     "name": "stdout",
     "output_type": "stream",
     "text": [
      "ornekornekornek\n"
     ]
    }
   ],
   "source": [
    "print( 'ornek' * 3 )"
   ]
  },
  {
   "cell_type": "markdown",
   "metadata": {},
   "source": [
    "#### 8. len() fonksiyonu"
   ]
  },
  {
   "cell_type": "code",
   "execution_count": null,
   "metadata": {},
   "outputs": [],
   "source": [
    "len('Turkiye')"
   ]
  },
  {
   "cell_type": "code",
   "execution_count": null,
   "metadata": {},
   "outputs": [],
   "source": [
    "len('Istanbul')"
   ]
  },
  {
   "cell_type": "code",
   "execution_count": null,
   "metadata": {},
   "outputs": [],
   "source": [
    "len('data')"
   ]
  },
  {
   "cell_type": "markdown",
   "metadata": {},
   "source": [
    "#### 9.  True ile False toplanabilir mi? neden?"
   ]
  },
  {
   "cell_type": "code",
   "execution_count": 54,
   "metadata": {},
   "outputs": [
    {
     "data": {
      "text/plain": [
       "1"
      ]
     },
     "execution_count": 54,
     "metadata": {},
     "output_type": "execute_result"
    }
   ],
   "source": [
    "True + False"
   ]
  },
  {
   "cell_type": "markdown",
   "metadata": {},
   "source": [
    "#### 10. del() fonksiyonu"
   ]
  },
  {
   "cell_type": "code",
   "execution_count": 23,
   "metadata": {},
   "outputs": [],
   "source": [
    "a = 'Machine Learning'\n",
    "del(a)\n",
    "\n",
    "print(a)"
   ]
  },
  {
   "cell_type": "markdown",
   "metadata": {},
   "source": [
    "#### SORU 3"
   ]
  },
  {
   "cell_type": "code",
   "execution_count": 2,
   "metadata": {},
   "outputs": [],
   "source": [
    "degisken1 = 'veri'\n",
    "degisken2 = 'bilimi'\n",
    "degisken3 = 'okulu'"
   ]
  },
  {
   "cell_type": "markdown",
   "metadata": {},
   "source": [
    "Yukarida verilen degiskenleri kullanarak asagidaki ciktiyi yazdiriniz:"
   ]
  },
  {
   "cell_type": "markdown",
   "metadata": {},
   "source": [
    "#### COZUM"
   ]
  },
  {
   "cell_type": "code",
   "execution_count": 6,
   "metadata": {},
   "outputs": [
    {
     "name": "stdout",
     "output_type": "stream",
     "text": [
      "veri_ _ _ bilimi_ _ _ okulu ifadesinin karakter sayisi: 24'dir.\n"
     ]
    }
   ],
   "source": []
  },
  {
   "cell_type": "markdown",
   "metadata": {},
   "source": [
    "#### 11. .upper() ve .lower() metotlari (method)"
   ]
  },
  {
   "cell_type": "code",
   "execution_count": 2,
   "metadata": {},
   "outputs": [
    {
     "name": "stdout",
     "output_type": "stream",
     "text": [
      "False\n"
     ]
    }
   ],
   "source": [
    "veri1 = \"Veri Bilimi\"\n",
    "veri2 = \"veri bilimi\"\n",
    "\n",
    "print( veri1 == veri2 )"
   ]
  },
  {
   "cell_type": "code",
   "execution_count": 3,
   "metadata": {},
   "outputs": [
    {
     "name": "stdout",
     "output_type": "stream",
     "text": [
      "True\n"
     ]
    }
   ],
   "source": [
    "veri1 = \"VERI BILIMI\"\n",
    "veri2 = \"veri bilimi\".upper()\n",
    "\n",
    "print( veri1 == veri2 )"
   ]
  },
  {
   "cell_type": "code",
   "execution_count": 4,
   "metadata": {},
   "outputs": [
    {
     "name": "stdout",
     "output_type": "stream",
     "text": [
      "True\n"
     ]
    }
   ],
   "source": [
    "veri1 = \"VERI BILIMI\".lower()\n",
    "veri2 = \"veri bilimi\"\n",
    "\n",
    "print( veri1 == veri2 )"
   ]
  },
  {
   "cell_type": "markdown",
   "metadata": {},
   "source": [
    "#### 12. .replace() metodu"
   ]
  },
  {
   "cell_type": "code",
   "execution_count": 6,
   "metadata": {},
   "outputs": [
    {
     "name": "stdout",
     "output_type": "stream",
     "text": [
      "Veri Bilimi\n"
     ]
    }
   ],
   "source": [
    "veri = veri2.replace('v','V')\n",
    "veri = veri.replace('b','B')\n",
    "\n",
    "print(veri)"
   ]
  },
  {
   "cell_type": "markdown",
   "metadata": {},
   "source": [
    "#### 13. .strip() metodu"
   ]
  },
  {
   "cell_type": "code",
   "execution_count": 23,
   "metadata": {},
   "outputs": [
    {
     "name": "stdout",
     "output_type": "stream",
     "text": [
      "VERI BILIMI\n"
     ]
    }
   ],
   "source": [
    "yazi = 'qqqqwwwweeeeVERI BILIMIrrrrrrr'\n",
    "\n",
    "x = yazi.strip(\"qwer\")\n",
    "\n",
    "print(x)"
   ]
  },
  {
   "cell_type": "code",
   "execution_count": 21,
   "metadata": {},
   "outputs": [
    {
     "name": "stdout",
     "output_type": "stream",
     "text": [
      "veribilimiokulu\n"
     ]
    }
   ],
   "source": [
    "yazi = \"www.veribilimiokulu.com\"\n",
    "\n",
    "x = yazi.strip(\"w.com\")\n",
    "\n",
    "print(x)"
   ]
  },
  {
   "cell_type": "markdown",
   "metadata": {},
   "source": [
    "#### 14. dir() fonksiyonu"
   ]
  },
  {
   "cell_type": "code",
   "execution_count": 22,
   "metadata": {
    "collapsed": true,
    "jupyter": {
     "outputs_hidden": true
    }
   },
   "outputs": [
    {
     "data": {
      "text/plain": [
       "['__add__',\n",
       " '__class__',\n",
       " '__contains__',\n",
       " '__delattr__',\n",
       " '__dir__',\n",
       " '__doc__',\n",
       " '__eq__',\n",
       " '__format__',\n",
       " '__ge__',\n",
       " '__getattribute__',\n",
       " '__getitem__',\n",
       " '__getnewargs__',\n",
       " '__gt__',\n",
       " '__hash__',\n",
       " '__init__',\n",
       " '__init_subclass__',\n",
       " '__iter__',\n",
       " '__le__',\n",
       " '__len__',\n",
       " '__lt__',\n",
       " '__mod__',\n",
       " '__mul__',\n",
       " '__ne__',\n",
       " '__new__',\n",
       " '__reduce__',\n",
       " '__reduce_ex__',\n",
       " '__repr__',\n",
       " '__rmod__',\n",
       " '__rmul__',\n",
       " '__setattr__',\n",
       " '__sizeof__',\n",
       " '__str__',\n",
       " '__subclasshook__',\n",
       " 'capitalize',\n",
       " 'casefold',\n",
       " 'center',\n",
       " 'count',\n",
       " 'encode',\n",
       " 'endswith',\n",
       " 'expandtabs',\n",
       " 'find',\n",
       " 'format',\n",
       " 'format_map',\n",
       " 'index',\n",
       " 'isalnum',\n",
       " 'isalpha',\n",
       " 'isascii',\n",
       " 'isdecimal',\n",
       " 'isdigit',\n",
       " 'isidentifier',\n",
       " 'islower',\n",
       " 'isnumeric',\n",
       " 'isprintable',\n",
       " 'isspace',\n",
       " 'istitle',\n",
       " 'isupper',\n",
       " 'join',\n",
       " 'ljust',\n",
       " 'lower',\n",
       " 'lstrip',\n",
       " 'maketrans',\n",
       " 'partition',\n",
       " 'replace',\n",
       " 'rfind',\n",
       " 'rindex',\n",
       " 'rjust',\n",
       " 'rpartition',\n",
       " 'rsplit',\n",
       " 'rstrip',\n",
       " 'split',\n",
       " 'splitlines',\n",
       " 'startswith',\n",
       " 'strip',\n",
       " 'swapcase',\n",
       " 'title',\n",
       " 'translate',\n",
       " 'upper',\n",
       " 'zfill']"
      ]
     },
     "execution_count": 22,
     "metadata": {},
     "output_type": "execute_result"
    }
   ],
   "source": [
    "dir(x)"
   ]
  },
  {
   "cell_type": "markdown",
   "metadata": {},
   "source": [
    "#### 15. Index "
   ]
  },
  {
   "cell_type": "code",
   "execution_count": 29,
   "metadata": {},
   "outputs": [
    {
     "data": {
      "text/plain": [
       "10"
      ]
     },
     "execution_count": 29,
     "metadata": {},
     "output_type": "execute_result"
    }
   ],
   "source": [
    "x.index('o')"
   ]
  },
  {
   "cell_type": "markdown",
   "metadata": {},
   "source": [
    "#### SORU 4 \n",
    "'DSMLBC: data science machine learning bootcamp' string ifadesini asagisaki cikti haline getiriniz"
   ]
  },
  {
   "cell_type": "markdown",
   "metadata": {},
   "source": [
    "#### COZUM"
   ]
  },
  {
   "cell_type": "code",
   "execution_count": 47,
   "metadata": {},
   "outputs": [
    {
     "name": "stdout",
     "output_type": "stream",
     "text": [
      "DSMLBC: Data Science Machine Learning Bootcamp\n"
     ]
    }
   ],
   "source": []
  },
  {
   "cell_type": "markdown",
   "metadata": {},
   "source": [
    "#### 16. int()"
   ]
  },
  {
   "cell_type": "code",
   "execution_count": 48,
   "metadata": {},
   "outputs": [
    {
     "name": "stdout",
     "output_type": "stream",
     "text": [
      "5080\n",
      "130\n"
     ]
    }
   ],
   "source": [
    "a = \"50\"\n",
    "b= \"80\"\n",
    "\n",
    "print(a + b)\n",
    "\n",
    "print( int(a) + int(b) )"
   ]
  },
  {
   "cell_type": "markdown",
   "metadata": {},
   "source": [
    "#### 17. str()"
   ]
  },
  {
   "cell_type": "code",
   "execution_count": 35,
   "metadata": {},
   "outputs": [
    {
     "data": {
      "text/plain": [
       "'String ifadelere boyle 3 integer ekliyoruz'"
      ]
     },
     "execution_count": 35,
     "metadata": {},
     "output_type": "execute_result"
    }
   ],
   "source": [
    "\"String ifadelere boyle \" + str(3) + \" integer ekliyoruz\""
   ]
  },
  {
   "cell_type": "markdown",
   "metadata": {},
   "source": [
    "#### 18. input()"
   ]
  },
  {
   "cell_type": "code",
   "execution_count": 39,
   "metadata": {},
   "outputs": [
    {
     "name": "stdin",
     "output_type": "stream",
     "text": [
      " 100\n",
      " 90\n"
     ]
    },
    {
     "name": "stdout",
     "output_type": "stream",
     "text": [
      "95.0\n"
     ]
    }
   ],
   "source": [
    "not1 = input()\n",
    "not2 = input()\n",
    "\n",
    "sonuc = ( int(not1) + int(not2) ) / 2\n",
    "\n",
    "print(sonuc)"
   ]
  },
  {
   "cell_type": "markdown",
   "metadata": {},
   "source": [
    "#### 19."
   ]
  },
  {
   "cell_type": "code",
   "execution_count": 40,
   "metadata": {},
   "outputs": [
    {
     "name": "stdout",
     "output_type": "stream",
     "text": [
      "95\n"
     ]
    }
   ],
   "source": [
    "print(int(sonuc))"
   ]
  },
  {
   "cell_type": "markdown",
   "metadata": {},
   "source": [
    "#### 20. float()"
   ]
  },
  {
   "cell_type": "code",
   "execution_count": 42,
   "metadata": {},
   "outputs": [
    {
     "name": "stdout",
     "output_type": "stream",
     "text": [
      "100.0\n"
     ]
    }
   ],
   "source": [
    "print(float(not1))"
   ]
  },
  {
   "cell_type": "markdown",
   "metadata": {},
   "source": [
    "#### SORU 5\n",
    "Klavyeden dogum tarihi girilen bir cocugun, 2020.12.30 tarihi itibari ile kac aylik oldugunu hesaplayan bir mini uygulama kodlarini yaziniz. (1 ayi 30 gun olarak aliniz)"
   ]
  },
  {
   "cell_type": "markdown",
   "metadata": {},
   "source": [
    "#### COZUM"
   ]
  },
  {
   "cell_type": "code",
   "execution_count": 54,
   "metadata": {},
   "outputs": [
    {
     "name": "stdin",
     "output_type": "stream",
     "text": [
      "Dogum tarihi yilini giriniz: 2015\n",
      "Dogum tarihi ayini giriniz: 5\n",
      "Dogum tarihi gunu giriniz: 5\n"
     ]
    },
    {
     "name": "stdout",
     "output_type": "stream",
     "text": [
      "Cocuk 67.86666666666666 ayliktir\n"
     ]
    }
   ],
   "source": []
  },
  {
   "cell_type": "markdown",
   "metadata": {},
   "source": [
    "#### 21. print(x, y)"
   ]
  },
  {
   "cell_type": "code",
   "execution_count": 48,
   "metadata": {},
   "outputs": [
    {
     "name": "stdout",
     "output_type": "stream",
     "text": [
      "DataScience MachineLearning BootCamp\n"
     ]
    }
   ],
   "source": [
    "a = 'DataScience'\n",
    "b = 'MachineLearning'\n",
    "c = 'BootCamp'\n",
    "\n",
    "print(a, b, c)"
   ]
  },
  {
   "cell_type": "markdown",
   "metadata": {},
   "source": [
    "#### 22. print(x, sep='_')"
   ]
  },
  {
   "cell_type": "code",
   "execution_count": 49,
   "metadata": {},
   "outputs": [
    {
     "name": "stdout",
     "output_type": "stream",
     "text": [
      "DataScience_MachineLearning_BootCamp\n"
     ]
    }
   ],
   "source": [
    "print(a,b,c,sep='_')\n"
   ]
  },
  {
   "cell_type": "markdown",
   "metadata": {},
   "source": [
    "#### 23. print() ile tek tirnak ve cift tirnak kullanimi"
   ]
  },
  {
   "cell_type": "code",
   "execution_count": 50,
   "metadata": {},
   "outputs": [
    {
     "name": "stdout",
     "output_type": "stream",
     "text": [
      "Bir atasozu der ki: \"Damlaya damlaya gol olur\"\n"
     ]
    }
   ],
   "source": [
    "print('Bir atasozu der ki: \"Damlaya damlaya gol olur\"')"
   ]
  },
  {
   "cell_type": "markdown",
   "metadata": {},
   "source": [
    "#### 24. Substrings"
   ]
  },
  {
   "cell_type": "code",
   "execution_count": 56,
   "metadata": {},
   "outputs": [
    {
     "name": "stdout",
     "output_type": "stream",
     "text": [
      "yine bir BootCamp dersindeyiz\n"
     ]
    }
   ],
   "source": [
    "tweet_text = \"RT @kasimecer:'yine bir BootCamp dersindeyiz'\" \n",
    "\n",
    "print( tweet_text[15:-1])"
   ]
  },
  {
   "cell_type": "code",
   "execution_count": 57,
   "metadata": {},
   "outputs": [
    {
     "name": "stdout",
     "output_type": "stream",
     "text": [
      "yine bir BootCamp dersindeyiz\n"
     ]
    }
   ],
   "source": [
    "#bir baska yol\n",
    "print( tweet_text[15:len(tweet_text)-1])"
   ]
  },
  {
   "cell_type": "markdown",
   "metadata": {},
   "source": [
    "#### SORU 6\n",
    "tweet_text string degiskeni icin yukarida yapilan substring islemini bir baska alternatif ile yapiniz"
   ]
  },
  {
   "cell_type": "markdown",
   "metadata": {},
   "source": [
    "#### COZUM"
   ]
  },
  {
   "cell_type": "code",
   "execution_count": 67,
   "metadata": {},
   "outputs": [
    {
     "name": "stdout",
     "output_type": "stream",
     "text": [
      "yine bir BootCamp dersindeyiz\n"
     ]
    }
   ],
   "source": []
  },
  {
   "cell_type": "code",
   "execution_count": null,
   "metadata": {},
   "outputs": [],
   "source": []
  },
  {
   "cell_type": "markdown",
   "metadata": {
    "toc-hr-collapsed": false
   },
   "source": [
    "# Python Programlama 102"
   ]
  },
  {
   "cell_type": "markdown",
   "metadata": {},
   "source": [
    "## Veri Yapilari: Liste"
   ]
  },
  {
   "cell_type": "markdown",
   "metadata": {},
   "source": [
    "#### 1. Listeler olusturma"
   ]
  },
  {
   "cell_type": "code",
   "execution_count": 2,
   "metadata": {},
   "outputs": [
    {
     "name": "stdout",
     "output_type": "stream",
     "text": [
      "[10, 8, 12, 2, 4]\n"
     ]
    }
   ],
   "source": [
    "dftr = 10\n",
    "klm = 8\n",
    "ktp = 12\n",
    "slg = 2\n",
    "ctvl = 4\n",
    "\n",
    "arac_gerec = [dftr, klm, ktp, slg, ctvl]\n",
    "\n",
    "print(arac_gerec)"
   ]
  },
  {
   "cell_type": "markdown",
   "metadata": {},
   "source": [
    "#### 2. Farkli tipte elemanlar"
   ]
  },
  {
   "cell_type": "code",
   "execution_count": 3,
   "metadata": {},
   "outputs": [
    {
     "name": "stdout",
     "output_type": "stream",
     "text": [
      "['defter', 10, 'kalem', 8, 'kitap', 12, 'silgi', 2, 'cetvel', 4]\n"
     ]
    }
   ],
   "source": [
    "arac_gerec = [\"defter\", dftr, \"kalem\", klm, \"kitap\", ktp, \"silgi\", slg, \"cetvel\", ctvl]\n",
    "\n",
    "print(arac_gerec)"
   ]
  },
  {
   "cell_type": "markdown",
   "metadata": {},
   "source": [
    "#### 3. Liste icinde listeler"
   ]
  },
  {
   "cell_type": "code",
   "execution_count": 4,
   "metadata": {},
   "outputs": [
    {
     "name": "stdout",
     "output_type": "stream",
     "text": [
      "[['defter', 10], ['kalem', 8], ['kitap', 12], ['silgi', 2], ['cetvel', 4]]\n",
      "<class 'list'>\n"
     ]
    }
   ],
   "source": [
    "canta = [[\"defter\", dftr], [\"kalem\", klm], [\"kitap\", ktp], [\"silgi\", slg], [\"cetvel\", ctvl]]\n",
    "\n",
    "print(canta)\n",
    "\n",
    "print(type(canta))"
   ]
  },
  {
   "cell_type": "markdown",
   "metadata": {},
   "source": [
    "#### 4. Listelerin indeksleri ile elemanlarina ulasmak:"
   ]
  },
  {
   "cell_type": "code",
   "execution_count": 5,
   "metadata": {},
   "outputs": [
    {
     "name": "stdout",
     "output_type": "stream",
     "text": [
      "10\n",
      "4\n",
      "12\n"
     ]
    }
   ],
   "source": [
    "arac_gerec = [\"defter\", dftr, \"kalem\", klm, \"kitap\", ktp, \"silgi\", slg, \"cetvel\", ctvl]\n",
    "\n",
    "print(arac_gerec[1])\n",
    "\n",
    "print(arac_gerec[-1])\n",
    "\n",
    "print(arac_gerec[5])"
   ]
  },
  {
   "cell_type": "markdown",
   "metadata": {},
   "source": [
    "#### 5. Liste elemanlari ve islemler"
   ]
  },
  {
   "cell_type": "code",
   "execution_count": 6,
   "metadata": {},
   "outputs": [
    {
     "name": "stdout",
     "output_type": "stream",
     "text": [
      "20\n"
     ]
    }
   ],
   "source": [
    "kalem_ve_kitap = arac_gerec[3] + arac_gerec[5]\n",
    "\n",
    "print(kalem_ve_kitap)"
   ]
  },
  {
   "cell_type": "markdown",
   "metadata": {},
   "source": [
    "#### SORU 1\n",
    "bir ogrencinin turkce sosyal matematik ve fen derslerinin notlarini iceren bir python listesi olusturunuz. (2.adimda oldugu gibi) ve indeks kullanip bir notu yazdiriniz"
   ]
  },
  {
   "cell_type": "markdown",
   "metadata": {},
   "source": [
    "#### COZUM"
   ]
  },
  {
   "cell_type": "code",
   "execution_count": 11,
   "metadata": {},
   "outputs": [
    {
     "name": "stdout",
     "output_type": "stream",
     "text": [
      "Matematik :  90\n"
     ]
    }
   ],
   "source": []
  },
  {
   "cell_type": "markdown",
   "metadata": {},
   "source": [
    "#### 6. Slice"
   ]
  },
  {
   "cell_type": "code",
   "execution_count": 7,
   "metadata": {},
   "outputs": [
    {
     "name": "stdout",
     "output_type": "stream",
     "text": [
      "['defter', 10, 'kalem', 8]\n",
      "['defter', 10, 'kalem', 8, 'kitap', 12]\n",
      "['silgi', 2, 'cetvel', 4]\n"
     ]
    }
   ],
   "source": [
    "yazi_icin = arac_gerec[:4]\n",
    "print(yazi_icin)\n",
    "\n",
    "cantada = arac_gerec[0:6]\n",
    "\n",
    "evde = arac_gerec[6:10]\n",
    "\n",
    "print(cantada)\n",
    "print(evde)"
   ]
  },
  {
   "cell_type": "markdown",
   "metadata": {},
   "source": [
    "#### 7. Alternatif slice"
   ]
  },
  {
   "cell_type": "code",
   "execution_count": 16,
   "metadata": {},
   "outputs": [
    {
     "name": "stdout",
     "output_type": "stream",
     "text": [
      "['defter', 10, 'kalem', 8]\n",
      "['defter', 10, 'kalem', 8, 'kitap', 12]\n",
      "['silgi', 2, 'cetvel', 4]\n"
     ]
    }
   ],
   "source": [
    "yazi_icin = arac_gerec[:4]\n",
    "print(yazi_icin)\n",
    "\n",
    "cantada = arac_gerec[:6]\n",
    "\n",
    "evde = arac_gerec[-4:]\n",
    "\n",
    "print(cantada)\n",
    "print(evde)"
   ]
  },
  {
   "cell_type": "markdown",
   "metadata": {},
   "source": [
    "#### 8. Cift indeks"
   ]
  },
  {
   "cell_type": "code",
   "execution_count": 17,
   "metadata": {},
   "outputs": [
    {
     "name": "stdout",
     "output_type": "stream",
     "text": [
      "4\n"
     ]
    }
   ],
   "source": [
    "canta = [[\"defter\", dftr], [\"kalem\", klm], [\"kitap\", ktp], [\"silgi\", slg], [\"cetvel\", ctvl]]\n",
    "\n",
    "print( canta[-1][1] )"
   ]
  },
  {
   "cell_type": "markdown",
   "metadata": {},
   "source": [
    "#### 9. Listelerde degisiklik:"
   ]
  },
  {
   "cell_type": "code",
   "execution_count": 41,
   "metadata": {},
   "outputs": [
    {
     "name": "stdout",
     "output_type": "stream",
     "text": [
      "['defter', 10, 'kalem', 8, 'kitap', 12, 'silgi', 2, 'pergel', 5]\n"
     ]
    }
   ],
   "source": [
    "arac_gerec = [\"defter\", dftr, \"kalem\", klm, \"kitap\", ktp, \"silgi\", slg, \"cetvel\", ctvl]\n",
    "\n",
    "arac_gerec[-1] = 5  #  4 -> 5\n",
    "\n",
    "arac_gerec[-2] = \"pergel\"  # cetvel -> pergel\n",
    "\n",
    "print(arac_gerec)"
   ]
  },
  {
   "cell_type": "markdown",
   "metadata": {},
   "source": [
    "#### 10. Listeleri birlestirme:"
   ]
  },
  {
   "cell_type": "code",
   "execution_count": 42,
   "metadata": {},
   "outputs": [
    {
     "name": "stdout",
     "output_type": "stream",
     "text": [
      "['defter', 10, 'kalem', 8, 'kitap', 12, 'silgi', 2, 'pergel', 5]\n",
      "['defter', 10, 'kalem', 8, 'kitap', 12, 'silgi', 2, 'pergel', 5, 'uc', 1]\n",
      "['defter', 10, 'kalem', 8, 'kitap', 12, 'silgi', 2, 'pergel', 5, 'uc', 1, 'hesap makinesi', 15]\n"
     ]
    }
   ],
   "source": [
    "arac_gerec_1 = arac_gerec + [\"uc\", 1]\n",
    "\n",
    "arac_gerec_2 = arac_gerec_1 + ['hesap makinesi', 15]\n",
    "\n",
    "print(arac_gerec)\n",
    "print(arac_gerec_1)\n",
    "print(arac_gerec_2)"
   ]
  },
  {
   "cell_type": "markdown",
   "metadata": {},
   "source": [
    "#### SORU 2\n",
    "Soru1'de olusturdugunuz liste icin slice ile listenin bir altkumesini seciniz farkli bir ad ile kaydediniz ve yazdiriniz.\n",
    "Yeni olusturdugunuz bu listedeki notu degistiriniz ve yazdiriniz."
   ]
  },
  {
   "cell_type": "markdown",
   "metadata": {},
   "source": [
    "#### COZUM"
   ]
  },
  {
   "cell_type": "code",
   "execution_count": 16,
   "metadata": {},
   "outputs": [
    {
     "name": "stdout",
     "output_type": "stream",
     "text": [
      "['Sosyal', 70, 'Matematik', 90]\n",
      "['Sosyal', 90, 'Matematik', 90]\n"
     ]
    }
   ],
   "source": []
  },
  {
   "cell_type": "markdown",
   "metadata": {},
   "source": [
    "#### 11. Liste elemani silmek .remove()"
   ]
  },
  {
   "cell_type": "code",
   "execution_count": 43,
   "metadata": {},
   "outputs": [
    {
     "name": "stdout",
     "output_type": "stream",
     "text": [
      "['defter', 10, 'kalem', 8, 'kitap', 12, 'silgi', 2, 'pergel', 5]\n"
     ]
    }
   ],
   "source": [
    "del( arac_gerec_2[13] )\n",
    "del( arac_gerec_2[12] )\n",
    "\n",
    "arac_gerec_2.remove(1)\n",
    "arac_gerec_2.remove('uc')\n",
    "\n",
    "print( arac_gerec_2)"
   ]
  },
  {
   "cell_type": "markdown",
   "metadata": {},
   "source": [
    "#### 12. Liste yedegi uzerinde calismak:"
   ]
  },
  {
   "cell_type": "code",
   "execution_count": 36,
   "metadata": {},
   "outputs": [
    {
     "name": "stdout",
     "output_type": "stream",
     "text": [
      "[12, 4, 6, 8, 10]\n",
      "[2, 4, 6, 8, 10]\n"
     ]
    }
   ],
   "source": [
    "listem = [2,4,6,8,10] \n",
    "\n",
    "listem_yedek = listem.copy()\n",
    "\n",
    "# veya:  listem_yedek = list(listem)\n",
    "\n",
    "listem_yedek[0] = 12\n",
    "\n",
    "print(listem_yedek)\n",
    "print(listem)"
   ]
  },
  {
   "cell_type": "raw",
   "metadata": {},
   "source": [
    "NOT: \n",
    "    kod1\n",
    "    kod2\n",
    "yukarida iki ayri kod farkli satirlarda calistirilabildigi gibi tek satirda aralarina ; koyarak da calistirilabilir\n",
    "    kod1; kod2"
   ]
  },
  {
   "cell_type": "markdown",
   "metadata": {},
   "source": [
    "#### 13. len( list1 )"
   ]
  },
  {
   "cell_type": "code",
   "execution_count": 27,
   "metadata": {},
   "outputs": [
    {
     "name": "stdout",
     "output_type": "stream",
     "text": [
      "<class 'list'>\n",
      "4\n"
     ]
    }
   ],
   "source": [
    "degisken = [1,2,3,4]\n",
    "\n",
    "print(type(degisken))\n",
    "\n",
    "print(len(degisken))\n"
   ]
  },
  {
   "cell_type": "markdown",
   "metadata": {},
   "source": [
    "#### 14. help() veya ?"
   ]
  },
  {
   "cell_type": "raw",
   "metadata": {},
   "source": [
    "help(ornek_fonksiyon) veya \n",
    "?ornek_fonksiyon \n",
    "ile ornek_fonksiyon adli bir fonksiyon hakkinda ayrintili bilgi alabilriz:"
   ]
  },
  {
   "cell_type": "code",
   "execution_count": null,
   "metadata": {},
   "outputs": [],
   "source": [
    "?max"
   ]
  },
  {
   "cell_type": "code",
   "execution_count": 28,
   "metadata": {
    "collapsed": true,
    "jupyter": {
     "outputs_hidden": true
    }
   },
   "outputs": [
    {
     "name": "stdout",
     "output_type": "stream",
     "text": [
      "Help on built-in function sum in module builtins:\n",
      "\n",
      "sum(iterable, start=0, /)\n",
      "    Return the sum of a 'start' value (default: 0) plus an iterable of numbers\n",
      "    \n",
      "    When the iterable is empty, return the start value.\n",
      "    This function is intended specifically for use with numeric values and may\n",
      "    reject non-numeric types.\n",
      "\n"
     ]
    }
   ],
   "source": [
    "help(sum)"
   ]
  },
  {
   "cell_type": "markdown",
   "metadata": {},
   "source": [
    "#### 15. sorted() fonksiyonu veya .sort()"
   ]
  },
  {
   "cell_type": "code",
   "execution_count": 48,
   "metadata": {},
   "outputs": [
    {
     "name": "stdout",
     "output_type": "stream",
     "text": [
      "[1, 3, 5, 7, 9, 0, 2, 4, 6, 8]\n",
      "[0, 1, 2, 3, 4, 5, 6, 7, 8, 9]\n",
      "[9, 8, 7, 6, 5, 4, 3, 2, 1, 0]\n"
     ]
    }
   ],
   "source": [
    "tekler = [1,3,5,7,9]\n",
    "ciftler = [0,2,4,6,8]\n",
    "\n",
    "rakamlar = tekler + ciftler\n",
    "print(rakamlar)\n",
    "\n",
    "# rakamlar_sirali = rakamlar.sort()\n",
    "\n",
    "rakamlar_sirali = sorted(rakamlar)\n",
    "print(rakamlar_sirali)\n",
    "\n",
    "rakamlar_sirali2 = sorted(rakamlar, reverse=True)\n",
    "print(rakamlar_sirali2)"
   ]
  },
  {
   "cell_type": "markdown",
   "metadata": {},
   "source": [
    "#### SORU 3\n",
    "Soru1'de olusturdugunuz listenin bir kopyasi uzerinde calisip, Sosyal dersi ve notunu siliniz. Listenin son halini yazdiriniz.\n",
    "Bu listenin eleman sayisini yazdiriniz."
   ]
  },
  {
   "cell_type": "markdown",
   "metadata": {},
   "source": [
    "#### COZUM"
   ]
  },
  {
   "cell_type": "code",
   "execution_count": 21,
   "metadata": {},
   "outputs": [
    {
     "name": "stdout",
     "output_type": "stream",
     "text": [
      "['Turkce', 80, 'Matematik', 90, 'Fen', 85]\n",
      "6\n"
     ]
    }
   ],
   "source": []
  },
  {
   "cell_type": "markdown",
   "metadata": {},
   "source": [
    "#### 16. liste metotlari: .upper() ve .count()"
   ]
  },
  {
   "cell_type": "code",
   "execution_count": 22,
   "metadata": {},
   "outputs": [
    {
     "name": "stdout",
     "output_type": "stream",
     "text": [
      "veribilimiegitimi\n",
      "VERIBILIMIEGITIMI\n",
      "7\n"
     ]
    }
   ],
   "source": [
    "# NOT: stringler ayni zamanda karakterlerden olusan birer listedir\n",
    "kurs = \"veribilimiegitimi\"\n",
    "\n",
    "kurs2 = kurs.upper()\n",
    "\n",
    "print(kurs)\n",
    "print(kurs2)\n",
    "\n",
    "print(kurs.count('i'))"
   ]
  },
  {
   "cell_type": "markdown",
   "metadata": {},
   "source": [
    "#### 17. liste metotlari: .index()"
   ]
  },
  {
   "cell_type": "code",
   "execution_count": 50,
   "metadata": {},
   "outputs": [
    {
     "name": "stdout",
     "output_type": "stream",
     "text": [
      "1\n",
      "2\n"
     ]
    }
   ],
   "source": [
    "fiyatlar = [10, 8, 12, 3, 4, 3]\n",
    "\n",
    "print(fiyatlar.index(8))\n",
    "\n",
    "print(fiyatlar.count(3))"
   ]
  },
  {
   "cell_type": "markdown",
   "metadata": {},
   "source": [
    "#### 18. Liste metotlari: .append() .remove() .reverse()"
   ]
  },
  {
   "cell_type": "code",
   "execution_count": 52,
   "metadata": {},
   "outputs": [
    {
     "name": "stdout",
     "output_type": "stream",
     "text": [
      "[10, 8, 12, 3, 4, 3, 20, 15]\n",
      "[15, 20, 3, 4, 3, 12, 8, 10]\n"
     ]
    }
   ],
   "source": [
    "fiyatlar = [10, 8, 12, 3, 4, 3]\n",
    "\n",
    "fiyatlar.append(20)\n",
    "fiyatlar.append(15)\n",
    "print(fiyatlar)\n",
    "\n",
    "fiyatlar.reverse()\n",
    "\n",
    "print(fiyatlar)"
   ]
  },
  {
   "cell_type": "markdown",
   "metadata": {},
   "source": [
    "#### SORU 4\n",
    "Soru1'de olusturdugunuz listeye Ingilizce dersini ve bir not ekleyiniz. Listeyi yazdiriniz."
   ]
  },
  {
   "cell_type": "markdown",
   "metadata": {},
   "source": [
    "#### COZUM"
   ]
  },
  {
   "cell_type": "code",
   "execution_count": 26,
   "metadata": {},
   "outputs": [
    {
     "name": "stdout",
     "output_type": "stream",
     "text": [
      "['Turkce', 80, 'Sosyal', 70, 'Matematik', 90, 'Fen', 85, 'Ingilizce', 80]\n"
     ]
    }
   ],
   "source": []
  }
 ],
 "metadata": {
  "kernelspec": {
   "display_name": "Python 3",
   "language": "python",
   "name": "python3"
  },
  "language_info": {
   "codemirror_mode": {
    "name": "ipython",
    "version": 3
   },
   "file_extension": ".py",
   "mimetype": "text/x-python",
   "name": "python",
   "nbconvert_exporter": "python",
   "pygments_lexer": "ipython3",
   "version": "3.7.6"
  }
 },
 "nbformat": 4,
 "nbformat_minor": 4
}
